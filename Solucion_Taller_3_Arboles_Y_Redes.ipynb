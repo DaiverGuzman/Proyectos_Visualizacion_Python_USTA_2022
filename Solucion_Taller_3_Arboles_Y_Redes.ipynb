{
  "cells": [
    {
      "cell_type": "markdown",
      "metadata": {
        "ExecuteTime": {
          "end_time": "2021-04-07T01:21:48.811142Z",
          "start_time": "2021-04-07T01:21:48.792615Z"
        },
        "id": "Af_-ah1l6aVL"
      },
      "source": [
        "# SOLUCIÓN TALLER 3: ÁRBOLES Y REDES\n",
        "\n",
        "## Presentado Por: \n",
        "## - Daiver Rolando Guzman\n",
        "## - Manuel Antonio García\n",
        "\n",
        "## Mayo de 2022\n",
        "\n",
        "## Asignatura: Visualización para ciencia de datos en Python"
      ]
    },
    {
      "cell_type": "markdown",
      "metadata": {
        "id": "ByYixdg06aVM"
      },
      "source": [
        "# Librerías de Visualización"
      ]
    },
    {
      "cell_type": "markdown",
      "metadata": {
        "id": "Pn_G3krf6aVN"
      },
      "source": [
        "## Importar librerías "
      ]
    },
    {
      "cell_type": "code",
      "execution_count": 11,
      "metadata": {
        "ExecuteTime": {
          "end_time": "2021-04-10T02:25:44.502001Z",
          "start_time": "2021-04-10T02:25:44.493999Z"
        },
        "id": "TMY9R70s6aVO",
        "outputId": "097568d2-a95f-4d94-e244-e30b030608f1",
        "colab": {
          "base_uri": "https://localhost:8080/"
        }
      },
      "outputs": [
        {
          "output_type": "stream",
          "name": "stdout",
          "text": [
            "Looking in indexes: https://pypi.org/simple, https://us-python.pkg.dev/colab-wheels/public/simple/\n",
            "Requirement already satisfied: networkx in /usr/local/lib/python3.7/dist-packages (2.6.3)\n"
          ]
        }
      ],
      "source": [
        "pip install networkx"
      ]
    },
    {
      "cell_type": "code",
      "source": [
        "pip install pyvis"
      ],
      "metadata": {
        "id": "sH3C9uwq6lDD",
        "outputId": "2ea489ec-5cb1-4f97-fd82-60cff0cc8b60",
        "colab": {
          "base_uri": "https://localhost:8080/"
        }
      },
      "execution_count": 12,
      "outputs": [
        {
          "output_type": "stream",
          "name": "stdout",
          "text": [
            "Looking in indexes: https://pypi.org/simple, https://us-python.pkg.dev/colab-wheels/public/simple/\n",
            "Collecting pyvis\n",
            "  Downloading pyvis-0.2.1.tar.gz (21 kB)\n",
            "Requirement already satisfied: jinja2>=2.9.6 in /usr/local/lib/python3.7/dist-packages (from pyvis) (2.11.3)\n",
            "Requirement already satisfied: networkx>=1.11 in /usr/local/lib/python3.7/dist-packages (from pyvis) (2.6.3)\n",
            "Requirement already satisfied: ipython>=5.3.0 in /usr/local/lib/python3.7/dist-packages (from pyvis) (5.5.0)\n",
            "Collecting jsonpickle>=1.4.1\n",
            "  Downloading jsonpickle-2.2.0-py2.py3-none-any.whl (39 kB)\n",
            "Requirement already satisfied: decorator in /usr/local/lib/python3.7/dist-packages (from ipython>=5.3.0->pyvis) (4.4.2)\n",
            "Requirement already satisfied: simplegeneric>0.8 in /usr/local/lib/python3.7/dist-packages (from ipython>=5.3.0->pyvis) (0.8.1)\n",
            "Requirement already satisfied: pickleshare in /usr/local/lib/python3.7/dist-packages (from ipython>=5.3.0->pyvis) (0.7.5)\n",
            "Requirement already satisfied: pygments in /usr/local/lib/python3.7/dist-packages (from ipython>=5.3.0->pyvis) (2.6.1)\n",
            "Requirement already satisfied: setuptools>=18.5 in /usr/local/lib/python3.7/dist-packages (from ipython>=5.3.0->pyvis) (57.4.0)\n",
            "Requirement already satisfied: traitlets>=4.2 in /usr/local/lib/python3.7/dist-packages (from ipython>=5.3.0->pyvis) (5.1.1)\n",
            "Requirement already satisfied: pexpect in /usr/local/lib/python3.7/dist-packages (from ipython>=5.3.0->pyvis) (4.8.0)\n",
            "Requirement already satisfied: prompt-toolkit<2.0.0,>=1.0.4 in /usr/local/lib/python3.7/dist-packages (from ipython>=5.3.0->pyvis) (1.0.18)\n",
            "Requirement already satisfied: MarkupSafe>=0.23 in /usr/local/lib/python3.7/dist-packages (from jinja2>=2.9.6->pyvis) (2.0.1)\n",
            "Requirement already satisfied: importlib-metadata in /usr/local/lib/python3.7/dist-packages (from jsonpickle>=1.4.1->pyvis) (4.11.3)\n",
            "Requirement already satisfied: six>=1.9.0 in /usr/local/lib/python3.7/dist-packages (from prompt-toolkit<2.0.0,>=1.0.4->ipython>=5.3.0->pyvis) (1.15.0)\n",
            "Requirement already satisfied: wcwidth in /usr/local/lib/python3.7/dist-packages (from prompt-toolkit<2.0.0,>=1.0.4->ipython>=5.3.0->pyvis) (0.2.5)\n",
            "Requirement already satisfied: zipp>=0.5 in /usr/local/lib/python3.7/dist-packages (from importlib-metadata->jsonpickle>=1.4.1->pyvis) (3.8.0)\n",
            "Requirement already satisfied: typing-extensions>=3.6.4 in /usr/local/lib/python3.7/dist-packages (from importlib-metadata->jsonpickle>=1.4.1->pyvis) (4.2.0)\n",
            "Requirement already satisfied: ptyprocess>=0.5 in /usr/local/lib/python3.7/dist-packages (from pexpect->ipython>=5.3.0->pyvis) (0.7.0)\n",
            "Building wheels for collected packages: pyvis\n",
            "  Building wheel for pyvis (setup.py) ... \u001b[?25l\u001b[?25hdone\n",
            "  Created wheel for pyvis: filename=pyvis-0.2.1-py3-none-any.whl size=23688 sha256=d0f4b4653b28bd4b71fb4f302ff764e4bf8065adc85e006e2064620421c193a6\n",
            "  Stored in directory: /root/.cache/pip/wheels/2a/8f/04/6340d46afc74f59cc857a594ca1a2a14a1f4cbd4fd6c2e9306\n",
            "Successfully built pyvis\n",
            "Installing collected packages: jsonpickle, pyvis\n",
            "Successfully installed jsonpickle-2.2.0 pyvis-0.2.1\n"
          ]
        }
      ]
    },
    {
      "cell_type": "code",
      "source": [
        "pip install plotly"
      ],
      "metadata": {
        "id": "HAIdekPl6naT",
        "outputId": "409036b2-16fa-4895-a278-1326f2524cbc",
        "colab": {
          "base_uri": "https://localhost:8080/"
        }
      },
      "execution_count": 13,
      "outputs": [
        {
          "output_type": "stream",
          "name": "stdout",
          "text": [
            "Looking in indexes: https://pypi.org/simple, https://us-python.pkg.dev/colab-wheels/public/simple/\n",
            "Requirement already satisfied: plotly in /usr/local/lib/python3.7/dist-packages (5.5.0)\n",
            "Requirement already satisfied: tenacity>=6.2.0 in /usr/local/lib/python3.7/dist-packages (from plotly) (8.0.1)\n",
            "Requirement already satisfied: six in /usr/local/lib/python3.7/dist-packages (from plotly) (1.15.0)\n"
          ]
        }
      ]
    },
    {
      "cell_type": "code",
      "execution_count": 14,
      "metadata": {
        "ExecuteTime": {
          "end_time": "2021-04-10T02:25:49.593730Z",
          "start_time": "2021-04-10T02:25:44.508004Z"
        },
        "id": "Hh5kUR2r6aVQ"
      },
      "outputs": [],
      "source": [
        "import pandas as pd\n",
        "import numpy as np\n",
        "import seaborn as sns\n",
        "import networkx as nx\n",
        "from pyvis.network import Network\n",
        "import matplotlib.pyplot as plt\n",
        "import plotly.express as px"
      ]
    },
    {
      "cell_type": "markdown",
      "source": [
        "## Carga de Datos"
      ],
      "metadata": {
        "id": "AuEb5on9bI9W"
      }
    },
    {
      "cell_type": "code",
      "source": [
        "from google.colab import drive\n",
        "drive.mount('/content/drive')"
      ],
      "metadata": {
        "colab": {
          "base_uri": "https://localhost:8080/"
        },
        "id": "o7alLlea3nID",
        "outputId": "1bb16770-62b4-4221-de53-21c34e88c351"
      },
      "execution_count": null,
      "outputs": [
        {
          "output_type": "stream",
          "name": "stdout",
          "text": [
            "Drive already mounted at /content/drive; to attempt to forcibly remount, call drive.mount(\"/content/drive\", force_remount=True).\n"
          ]
        }
      ]
    },
    {
      "cell_type": "code",
      "source": [
        "Data = pd.read_excel('/content/drive/MyDrive/Colab Notebooks/BD.xlsx') \n"
      ],
      "metadata": {
        "id": "KdbKlPn44n2p"
      },
      "execution_count": null,
      "outputs": []
    },
    {
      "cell_type": "code",
      "source": [
        "Data.head()"
      ],
      "metadata": {
        "colab": {
          "base_uri": "https://localhost:8080/",
          "height": 473
        },
        "id": "sZA7z6dm7Doq",
        "outputId": "daa52f1b-62f4-44d3-e5e9-1fbac4a396bd"
      },
      "execution_count": null,
      "outputs": [
        {
          "output_type": "execute_result",
          "data": {
            "text/plain": [
              "   PACIENTE    SEXO  EDAD LUGAR DE NACIMIENTO DOMINANCIA  ESTRATO  \\\n",
              "0         1  Famale    32               Apulo    Diestro        3   \n",
              "1         2    Male    44              Bogotá    Diestro        2   \n",
              "2         3  Famale    58              Bogotá    Diestro        4   \n",
              "3         4  Famale    34              Bogotá    Diestro        2   \n",
              "4         5  Famale    37              Bogotá    Diestro        3   \n",
              "\n",
              "  NIVEL EDUCATIVO CATEGORIA ANTECEDENTES  \\\n",
              "0     Profesional          ENF CARDIOVAS   \n",
              "1     Profesional          ENF CARDIOVAS   \n",
              "2        Posgrado                 CÁNCER   \n",
              "3         Técnico                 CÁNCER   \n",
              "4     Profesional          ENF CARDIOVAS   \n",
              "\n",
              "                             ANTECEDENTES FAMILIARES  \\\n",
              "0                         Enfermedad cerebrovascular   \n",
              "1                                     Tromboflebitis   \n",
              "2  Cáncer de estómago, arritmia cardiaca, diabete...   \n",
              "3                                 Cáncer de tiroides   \n",
              "4                                       Hipoglicemia   \n",
              "\n",
              "  MEDICAMENTOS ACTUALMENTE CONSUMIDOS  ...  MASA PIEL (kg) MASA ÓSEA (kg)  \\\n",
              "0                             Ninguno  ...             3.2            4.7   \n",
              "1                             Ninguno  ...             3.5            7.0   \n",
              "2                       Atorvastatina  ...             3.9            7.4   \n",
              "3                             Ninguno  ...             3.3            6.9   \n",
              "4                             Ninguno  ...             2.7            4.8   \n",
              "\n",
              "   MASA RESIDUAL (kg) MASA MUSCULAR (kg)  MASA ADIPOSA (kg)  \\\n",
              "0                 4.6               21.2               21.7   \n",
              "1                 7.2               28.8               22.0   \n",
              "2                 9.6               27.3               33.3   \n",
              "3                 5.7               23.9               34.0   \n",
              "4                 4.0               15.8               16.8   \n",
              "\n",
              "  INDICE MUSCULAR GRASO  ENDOMORFIA MESOMORFIA ECTOMORFIA           SOMATOTIPO  \n",
              "0              0.976959        5.77       4.63       1.30     ENDO MESOMORFICO  \n",
              "1              1.309091        5.57       5.34       1.10  ENDOMORFO MESOMORFO  \n",
              "2              0.819820        7.72       4.96       0.50     ENDO MESOMORFICO  \n",
              "3              0.702941        9.04       5.66       0.00     ENDO MESOMORFICO  \n",
              "4              0.940476        6.00       4.26       2.29     ENDO MESOMORFICO  \n",
              "\n",
              "[5 rows x 118 columns]"
            ],
            "text/html": [
              "\n",
              "  <div id=\"df-17eff031-df5c-4531-8491-ab4d62606404\">\n",
              "    <div class=\"colab-df-container\">\n",
              "      <div>\n",
              "<style scoped>\n",
              "    .dataframe tbody tr th:only-of-type {\n",
              "        vertical-align: middle;\n",
              "    }\n",
              "\n",
              "    .dataframe tbody tr th {\n",
              "        vertical-align: top;\n",
              "    }\n",
              "\n",
              "    .dataframe thead th {\n",
              "        text-align: right;\n",
              "    }\n",
              "</style>\n",
              "<table border=\"1\" class=\"dataframe\">\n",
              "  <thead>\n",
              "    <tr style=\"text-align: right;\">\n",
              "      <th></th>\n",
              "      <th>PACIENTE</th>\n",
              "      <th>SEXO</th>\n",
              "      <th>EDAD</th>\n",
              "      <th>LUGAR DE NACIMIENTO</th>\n",
              "      <th>DOMINANCIA</th>\n",
              "      <th>ESTRATO</th>\n",
              "      <th>NIVEL EDUCATIVO</th>\n",
              "      <th>CATEGORIA ANTECEDENTES</th>\n",
              "      <th>ANTECEDENTES FAMILIARES</th>\n",
              "      <th>MEDICAMENTOS ACTUALMENTE CONSUMIDOS</th>\n",
              "      <th>...</th>\n",
              "      <th>MASA PIEL (kg)</th>\n",
              "      <th>MASA ÓSEA (kg)</th>\n",
              "      <th>MASA RESIDUAL (kg)</th>\n",
              "      <th>MASA MUSCULAR (kg)</th>\n",
              "      <th>MASA ADIPOSA (kg)</th>\n",
              "      <th>INDICE MUSCULAR GRASO</th>\n",
              "      <th>ENDOMORFIA</th>\n",
              "      <th>MESOMORFIA</th>\n",
              "      <th>ECTOMORFIA</th>\n",
              "      <th>SOMATOTIPO</th>\n",
              "    </tr>\n",
              "  </thead>\n",
              "  <tbody>\n",
              "    <tr>\n",
              "      <th>0</th>\n",
              "      <td>1</td>\n",
              "      <td>Famale</td>\n",
              "      <td>32</td>\n",
              "      <td>Apulo</td>\n",
              "      <td>Diestro</td>\n",
              "      <td>3</td>\n",
              "      <td>Profesional</td>\n",
              "      <td>ENF CARDIOVAS</td>\n",
              "      <td>Enfermedad cerebrovascular</td>\n",
              "      <td>Ninguno</td>\n",
              "      <td>...</td>\n",
              "      <td>3.2</td>\n",
              "      <td>4.7</td>\n",
              "      <td>4.6</td>\n",
              "      <td>21.2</td>\n",
              "      <td>21.7</td>\n",
              "      <td>0.976959</td>\n",
              "      <td>5.77</td>\n",
              "      <td>4.63</td>\n",
              "      <td>1.30</td>\n",
              "      <td>ENDO MESOMORFICO</td>\n",
              "    </tr>\n",
              "    <tr>\n",
              "      <th>1</th>\n",
              "      <td>2</td>\n",
              "      <td>Male</td>\n",
              "      <td>44</td>\n",
              "      <td>Bogotá</td>\n",
              "      <td>Diestro</td>\n",
              "      <td>2</td>\n",
              "      <td>Profesional</td>\n",
              "      <td>ENF CARDIOVAS</td>\n",
              "      <td>Tromboflebitis</td>\n",
              "      <td>Ninguno</td>\n",
              "      <td>...</td>\n",
              "      <td>3.5</td>\n",
              "      <td>7.0</td>\n",
              "      <td>7.2</td>\n",
              "      <td>28.8</td>\n",
              "      <td>22.0</td>\n",
              "      <td>1.309091</td>\n",
              "      <td>5.57</td>\n",
              "      <td>5.34</td>\n",
              "      <td>1.10</td>\n",
              "      <td>ENDOMORFO MESOMORFO</td>\n",
              "    </tr>\n",
              "    <tr>\n",
              "      <th>2</th>\n",
              "      <td>3</td>\n",
              "      <td>Famale</td>\n",
              "      <td>58</td>\n",
              "      <td>Bogotá</td>\n",
              "      <td>Diestro</td>\n",
              "      <td>4</td>\n",
              "      <td>Posgrado</td>\n",
              "      <td>CÁNCER</td>\n",
              "      <td>Cáncer de estómago, arritmia cardiaca, diabete...</td>\n",
              "      <td>Atorvastatina</td>\n",
              "      <td>...</td>\n",
              "      <td>3.9</td>\n",
              "      <td>7.4</td>\n",
              "      <td>9.6</td>\n",
              "      <td>27.3</td>\n",
              "      <td>33.3</td>\n",
              "      <td>0.819820</td>\n",
              "      <td>7.72</td>\n",
              "      <td>4.96</td>\n",
              "      <td>0.50</td>\n",
              "      <td>ENDO MESOMORFICO</td>\n",
              "    </tr>\n",
              "    <tr>\n",
              "      <th>3</th>\n",
              "      <td>4</td>\n",
              "      <td>Famale</td>\n",
              "      <td>34</td>\n",
              "      <td>Bogotá</td>\n",
              "      <td>Diestro</td>\n",
              "      <td>2</td>\n",
              "      <td>Técnico</td>\n",
              "      <td>CÁNCER</td>\n",
              "      <td>Cáncer de tiroides</td>\n",
              "      <td>Ninguno</td>\n",
              "      <td>...</td>\n",
              "      <td>3.3</td>\n",
              "      <td>6.9</td>\n",
              "      <td>5.7</td>\n",
              "      <td>23.9</td>\n",
              "      <td>34.0</td>\n",
              "      <td>0.702941</td>\n",
              "      <td>9.04</td>\n",
              "      <td>5.66</td>\n",
              "      <td>0.00</td>\n",
              "      <td>ENDO MESOMORFICO</td>\n",
              "    </tr>\n",
              "    <tr>\n",
              "      <th>4</th>\n",
              "      <td>5</td>\n",
              "      <td>Famale</td>\n",
              "      <td>37</td>\n",
              "      <td>Bogotá</td>\n",
              "      <td>Diestro</td>\n",
              "      <td>3</td>\n",
              "      <td>Profesional</td>\n",
              "      <td>ENF CARDIOVAS</td>\n",
              "      <td>Hipoglicemia</td>\n",
              "      <td>Ninguno</td>\n",
              "      <td>...</td>\n",
              "      <td>2.7</td>\n",
              "      <td>4.8</td>\n",
              "      <td>4.0</td>\n",
              "      <td>15.8</td>\n",
              "      <td>16.8</td>\n",
              "      <td>0.940476</td>\n",
              "      <td>6.00</td>\n",
              "      <td>4.26</td>\n",
              "      <td>2.29</td>\n",
              "      <td>ENDO MESOMORFICO</td>\n",
              "    </tr>\n",
              "  </tbody>\n",
              "</table>\n",
              "<p>5 rows × 118 columns</p>\n",
              "</div>\n",
              "      <button class=\"colab-df-convert\" onclick=\"convertToInteractive('df-17eff031-df5c-4531-8491-ab4d62606404')\"\n",
              "              title=\"Convert this dataframe to an interactive table.\"\n",
              "              style=\"display:none;\">\n",
              "        \n",
              "  <svg xmlns=\"http://www.w3.org/2000/svg\" height=\"24px\"viewBox=\"0 0 24 24\"\n",
              "       width=\"24px\">\n",
              "    <path d=\"M0 0h24v24H0V0z\" fill=\"none\"/>\n",
              "    <path d=\"M18.56 5.44l.94 2.06.94-2.06 2.06-.94-2.06-.94-.94-2.06-.94 2.06-2.06.94zm-11 1L8.5 8.5l.94-2.06 2.06-.94-2.06-.94L8.5 2.5l-.94 2.06-2.06.94zm10 10l.94 2.06.94-2.06 2.06-.94-2.06-.94-.94-2.06-.94 2.06-2.06.94z\"/><path d=\"M17.41 7.96l-1.37-1.37c-.4-.4-.92-.59-1.43-.59-.52 0-1.04.2-1.43.59L10.3 9.45l-7.72 7.72c-.78.78-.78 2.05 0 2.83L4 21.41c.39.39.9.59 1.41.59.51 0 1.02-.2 1.41-.59l7.78-7.78 2.81-2.81c.8-.78.8-2.07 0-2.86zM5.41 20L4 18.59l7.72-7.72 1.47 1.35L5.41 20z\"/>\n",
              "  </svg>\n",
              "      </button>\n",
              "      \n",
              "  <style>\n",
              "    .colab-df-container {\n",
              "      display:flex;\n",
              "      flex-wrap:wrap;\n",
              "      gap: 12px;\n",
              "    }\n",
              "\n",
              "    .colab-df-convert {\n",
              "      background-color: #E8F0FE;\n",
              "      border: none;\n",
              "      border-radius: 50%;\n",
              "      cursor: pointer;\n",
              "      display: none;\n",
              "      fill: #1967D2;\n",
              "      height: 32px;\n",
              "      padding: 0 0 0 0;\n",
              "      width: 32px;\n",
              "    }\n",
              "\n",
              "    .colab-df-convert:hover {\n",
              "      background-color: #E2EBFA;\n",
              "      box-shadow: 0px 1px 2px rgba(60, 64, 67, 0.3), 0px 1px 3px 1px rgba(60, 64, 67, 0.15);\n",
              "      fill: #174EA6;\n",
              "    }\n",
              "\n",
              "    [theme=dark] .colab-df-convert {\n",
              "      background-color: #3B4455;\n",
              "      fill: #D2E3FC;\n",
              "    }\n",
              "\n",
              "    [theme=dark] .colab-df-convert:hover {\n",
              "      background-color: #434B5C;\n",
              "      box-shadow: 0px 1px 3px 1px rgba(0, 0, 0, 0.15);\n",
              "      filter: drop-shadow(0px 1px 2px rgba(0, 0, 0, 0.3));\n",
              "      fill: #FFFFFF;\n",
              "    }\n",
              "  </style>\n",
              "\n",
              "      <script>\n",
              "        const buttonEl =\n",
              "          document.querySelector('#df-17eff031-df5c-4531-8491-ab4d62606404 button.colab-df-convert');\n",
              "        buttonEl.style.display =\n",
              "          google.colab.kernel.accessAllowed ? 'block' : 'none';\n",
              "\n",
              "        async function convertToInteractive(key) {\n",
              "          const element = document.querySelector('#df-17eff031-df5c-4531-8491-ab4d62606404');\n",
              "          const dataTable =\n",
              "            await google.colab.kernel.invokeFunction('convertToInteractive',\n",
              "                                                     [key], {});\n",
              "          if (!dataTable) return;\n",
              "\n",
              "          const docLinkHtml = 'Like what you see? Visit the ' +\n",
              "            '<a target=\"_blank\" href=https://colab.research.google.com/notebooks/data_table.ipynb>data table notebook</a>'\n",
              "            + ' to learn more about interactive tables.';\n",
              "          element.innerHTML = '';\n",
              "          dataTable['output_type'] = 'display_data';\n",
              "          await google.colab.output.renderOutput(dataTable, element);\n",
              "          const docLink = document.createElement('div');\n",
              "          docLink.innerHTML = docLinkHtml;\n",
              "          element.appendChild(docLink);\n",
              "        }\n",
              "      </script>\n",
              "    </div>\n",
              "  </div>\n",
              "  "
            ]
          },
          "metadata": {},
          "execution_count": 47
        }
      ]
    },
    {
      "cell_type": "markdown",
      "source": [
        "# Treemap"
      ],
      "metadata": {
        "id": "NhXI6Y8HpdAt"
      }
    },
    {
      "cell_type": "code",
      "source": [
        "pd.crosstab(Data['CATEGORIA ANTECEDENTES'],Data['NIVEL EDUCATIVO'])"
      ],
      "metadata": {
        "colab": {
          "base_uri": "https://localhost:8080/",
          "height": 175
        },
        "id": "fyVcX16A8IAp",
        "outputId": "103d5e3b-a6fa-427a-9793-13969ec3c09b"
      },
      "execution_count": null,
      "outputs": [
        {
          "output_type": "execute_result",
          "data": {
            "text/plain": [
              "NIVEL EDUCATIVO         Bachiller  Posgrado  Profesional  Tecnólogo  Técnico\n",
              "CATEGORIA ANTECEDENTES                                                      \n",
              "CÁNCER                         13         4           13          9        3\n",
              "ENF CARDIOVAS                   3         5           12          7        4\n",
              "NINGUNO                         3         1            3          0        2"
            ],
            "text/html": [
              "\n",
              "  <div id=\"df-78c9e7d9-858e-4690-837f-8414c0e08d05\">\n",
              "    <div class=\"colab-df-container\">\n",
              "      <div>\n",
              "<style scoped>\n",
              "    .dataframe tbody tr th:only-of-type {\n",
              "        vertical-align: middle;\n",
              "    }\n",
              "\n",
              "    .dataframe tbody tr th {\n",
              "        vertical-align: top;\n",
              "    }\n",
              "\n",
              "    .dataframe thead th {\n",
              "        text-align: right;\n",
              "    }\n",
              "</style>\n",
              "<table border=\"1\" class=\"dataframe\">\n",
              "  <thead>\n",
              "    <tr style=\"text-align: right;\">\n",
              "      <th>NIVEL EDUCATIVO</th>\n",
              "      <th>Bachiller</th>\n",
              "      <th>Posgrado</th>\n",
              "      <th>Profesional</th>\n",
              "      <th>Tecnólogo</th>\n",
              "      <th>Técnico</th>\n",
              "    </tr>\n",
              "    <tr>\n",
              "      <th>CATEGORIA ANTECEDENTES</th>\n",
              "      <th></th>\n",
              "      <th></th>\n",
              "      <th></th>\n",
              "      <th></th>\n",
              "      <th></th>\n",
              "    </tr>\n",
              "  </thead>\n",
              "  <tbody>\n",
              "    <tr>\n",
              "      <th>CÁNCER</th>\n",
              "      <td>13</td>\n",
              "      <td>4</td>\n",
              "      <td>13</td>\n",
              "      <td>9</td>\n",
              "      <td>3</td>\n",
              "    </tr>\n",
              "    <tr>\n",
              "      <th>ENF CARDIOVAS</th>\n",
              "      <td>3</td>\n",
              "      <td>5</td>\n",
              "      <td>12</td>\n",
              "      <td>7</td>\n",
              "      <td>4</td>\n",
              "    </tr>\n",
              "    <tr>\n",
              "      <th>NINGUNO</th>\n",
              "      <td>3</td>\n",
              "      <td>1</td>\n",
              "      <td>3</td>\n",
              "      <td>0</td>\n",
              "      <td>2</td>\n",
              "    </tr>\n",
              "  </tbody>\n",
              "</table>\n",
              "</div>\n",
              "      <button class=\"colab-df-convert\" onclick=\"convertToInteractive('df-78c9e7d9-858e-4690-837f-8414c0e08d05')\"\n",
              "              title=\"Convert this dataframe to an interactive table.\"\n",
              "              style=\"display:none;\">\n",
              "        \n",
              "  <svg xmlns=\"http://www.w3.org/2000/svg\" height=\"24px\"viewBox=\"0 0 24 24\"\n",
              "       width=\"24px\">\n",
              "    <path d=\"M0 0h24v24H0V0z\" fill=\"none\"/>\n",
              "    <path d=\"M18.56 5.44l.94 2.06.94-2.06 2.06-.94-2.06-.94-.94-2.06-.94 2.06-2.06.94zm-11 1L8.5 8.5l.94-2.06 2.06-.94-2.06-.94L8.5 2.5l-.94 2.06-2.06.94zm10 10l.94 2.06.94-2.06 2.06-.94-2.06-.94-.94-2.06-.94 2.06-2.06.94z\"/><path d=\"M17.41 7.96l-1.37-1.37c-.4-.4-.92-.59-1.43-.59-.52 0-1.04.2-1.43.59L10.3 9.45l-7.72 7.72c-.78.78-.78 2.05 0 2.83L4 21.41c.39.39.9.59 1.41.59.51 0 1.02-.2 1.41-.59l7.78-7.78 2.81-2.81c.8-.78.8-2.07 0-2.86zM5.41 20L4 18.59l7.72-7.72 1.47 1.35L5.41 20z\"/>\n",
              "  </svg>\n",
              "      </button>\n",
              "      \n",
              "  <style>\n",
              "    .colab-df-container {\n",
              "      display:flex;\n",
              "      flex-wrap:wrap;\n",
              "      gap: 12px;\n",
              "    }\n",
              "\n",
              "    .colab-df-convert {\n",
              "      background-color: #E8F0FE;\n",
              "      border: none;\n",
              "      border-radius: 50%;\n",
              "      cursor: pointer;\n",
              "      display: none;\n",
              "      fill: #1967D2;\n",
              "      height: 32px;\n",
              "      padding: 0 0 0 0;\n",
              "      width: 32px;\n",
              "    }\n",
              "\n",
              "    .colab-df-convert:hover {\n",
              "      background-color: #E2EBFA;\n",
              "      box-shadow: 0px 1px 2px rgba(60, 64, 67, 0.3), 0px 1px 3px 1px rgba(60, 64, 67, 0.15);\n",
              "      fill: #174EA6;\n",
              "    }\n",
              "\n",
              "    [theme=dark] .colab-df-convert {\n",
              "      background-color: #3B4455;\n",
              "      fill: #D2E3FC;\n",
              "    }\n",
              "\n",
              "    [theme=dark] .colab-df-convert:hover {\n",
              "      background-color: #434B5C;\n",
              "      box-shadow: 0px 1px 3px 1px rgba(0, 0, 0, 0.15);\n",
              "      filter: drop-shadow(0px 1px 2px rgba(0, 0, 0, 0.3));\n",
              "      fill: #FFFFFF;\n",
              "    }\n",
              "  </style>\n",
              "\n",
              "      <script>\n",
              "        const buttonEl =\n",
              "          document.querySelector('#df-78c9e7d9-858e-4690-837f-8414c0e08d05 button.colab-df-convert');\n",
              "        buttonEl.style.display =\n",
              "          google.colab.kernel.accessAllowed ? 'block' : 'none';\n",
              "\n",
              "        async function convertToInteractive(key) {\n",
              "          const element = document.querySelector('#df-78c9e7d9-858e-4690-837f-8414c0e08d05');\n",
              "          const dataTable =\n",
              "            await google.colab.kernel.invokeFunction('convertToInteractive',\n",
              "                                                     [key], {});\n",
              "          if (!dataTable) return;\n",
              "\n",
              "          const docLinkHtml = 'Like what you see? Visit the ' +\n",
              "            '<a target=\"_blank\" href=https://colab.research.google.com/notebooks/data_table.ipynb>data table notebook</a>'\n",
              "            + ' to learn more about interactive tables.';\n",
              "          element.innerHTML = '';\n",
              "          dataTable['output_type'] = 'display_data';\n",
              "          await google.colab.output.renderOutput(dataTable, element);\n",
              "          const docLink = document.createElement('div');\n",
              "          docLink.innerHTML = docLinkHtml;\n",
              "          element.appendChild(docLink);\n",
              "        }\n",
              "      </script>\n",
              "    </div>\n",
              "  </div>\n",
              "  "
            ]
          },
          "metadata": {},
          "execution_count": 205
        }
      ]
    },
    {
      "cell_type": "code",
      "source": [
        "fig = px.treemap(Data, path=['CATEGORIA ANTECEDENTES', 'NIVEL EDUCATIVO'],\n",
        "                 values='INDICE MUSCULAR GRASO')\n",
        "  \n",
        "fig.show()"
      ],
      "metadata": {
        "colab": {
          "base_uri": "https://localhost:8080/",
          "height": 542
        },
        "id": "Y_ULxxAd9_LU",
        "outputId": "b63f8afe-2089-40a2-cad0-080dd5430994"
      },
      "execution_count": null,
      "outputs": [
        {
          "output_type": "display_data",
          "data": {
            "text/html": [
              "<html>\n",
              "<head><meta charset=\"utf-8\" /></head>\n",
              "<body>\n",
              "    <div>            <script src=\"https://cdnjs.cloudflare.com/ajax/libs/mathjax/2.7.5/MathJax.js?config=TeX-AMS-MML_SVG\"></script><script type=\"text/javascript\">if (window.MathJax) {MathJax.Hub.Config({SVG: {font: \"STIX-Web\"}});}</script>                <script type=\"text/javascript\">window.PlotlyConfig = {MathJaxConfig: 'local'};</script>\n",
              "        <script src=\"https://cdn.plot.ly/plotly-2.8.3.min.js\"></script>                <div id=\"0c3d3c9f-d773-4831-b1d2-d07695c87c12\" class=\"plotly-graph-div\" style=\"height:525px; width:100%;\"></div>            <script type=\"text/javascript\">                                    window.PLOTLYENV=window.PLOTLYENV || {};                                    if (document.getElementById(\"0c3d3c9f-d773-4831-b1d2-d07695c87c12\")) {                    Plotly.newPlot(                        \"0c3d3c9f-d773-4831-b1d2-d07695c87c12\",                        [{\"branchvalues\":\"total\",\"domain\":{\"x\":[0.0,1.0],\"y\":[0.0,1.0]},\"hovertemplate\":\"labels=%{label}<br>INDICE MUSCULAR GRASO=%{value}<br>parent=%{parent}<br>id=%{id}<extra></extra>\",\"ids\":[\"C\\u00c1NCER/Bachiller\",\"ENF CARDIOVAS/Bachiller\",\"NINGUNO/Bachiller\",\"C\\u00c1NCER/Posgrado\",\"ENF CARDIOVAS/Posgrado\",\"NINGUNO/Posgrado\",\"C\\u00c1NCER/Profesional\",\"ENF CARDIOVAS/Profesional\",\"NINGUNO/Profesional\",\"C\\u00c1NCER/Tecn\\u00f3logo\",\"ENF CARDIOVAS/Tecn\\u00f3logo\",\"C\\u00c1NCER/T\\u00e9cnico\",\"ENF CARDIOVAS/T\\u00e9cnico\",\"NINGUNO/T\\u00e9cnico\",\"C\\u00c1NCER\",\"ENF CARDIOVAS\",\"NINGUNO\"],\"labels\":[\"Bachiller\",\"Bachiller\",\"Bachiller\",\"Posgrado\",\"Posgrado\",\"Posgrado\",\"Profesional\",\"Profesional\",\"Profesional\",\"Tecn\\u00f3logo\",\"Tecn\\u00f3logo\",\"T\\u00e9cnico\",\"T\\u00e9cnico\",\"T\\u00e9cnico\",\"C\\u00c1NCER\",\"ENF CARDIOVAS\",\"NINGUNO\"],\"name\":\"\",\"parents\":[\"C\\u00c1NCER\",\"ENF CARDIOVAS\",\"NINGUNO\",\"C\\u00c1NCER\",\"ENF CARDIOVAS\",\"NINGUNO\",\"C\\u00c1NCER\",\"ENF CARDIOVAS\",\"NINGUNO\",\"C\\u00c1NCER\",\"ENF CARDIOVAS\",\"C\\u00c1NCER\",\"ENF CARDIOVAS\",\"NINGUNO\",\"\",\"\",\"\"],\"values\":[14.124594734364189,4.563778727966911,4.1070812849145,4.1281152700929535,5.866194876244226,0.960591133004926,13.192790048087252,12.428804409484833,3.0902168944948665,10.330652962254081,8.611277351986129,3.0502428254628704,5.359893248694697,3.5576812664041997,44.82639584026135,36.8299486143768,11.715570578818491],\"type\":\"treemap\"}],                        {\"template\":{\"data\":{\"bar\":[{\"error_x\":{\"color\":\"#2a3f5f\"},\"error_y\":{\"color\":\"#2a3f5f\"},\"marker\":{\"line\":{\"color\":\"#E5ECF6\",\"width\":0.5},\"pattern\":{\"fillmode\":\"overlay\",\"size\":10,\"solidity\":0.2}},\"type\":\"bar\"}],\"barpolar\":[{\"marker\":{\"line\":{\"color\":\"#E5ECF6\",\"width\":0.5},\"pattern\":{\"fillmode\":\"overlay\",\"size\":10,\"solidity\":0.2}},\"type\":\"barpolar\"}],\"carpet\":[{\"aaxis\":{\"endlinecolor\":\"#2a3f5f\",\"gridcolor\":\"white\",\"linecolor\":\"white\",\"minorgridcolor\":\"white\",\"startlinecolor\":\"#2a3f5f\"},\"baxis\":{\"endlinecolor\":\"#2a3f5f\",\"gridcolor\":\"white\",\"linecolor\":\"white\",\"minorgridcolor\":\"white\",\"startlinecolor\":\"#2a3f5f\"},\"type\":\"carpet\"}],\"choropleth\":[{\"colorbar\":{\"outlinewidth\":0,\"ticks\":\"\"},\"type\":\"choropleth\"}],\"contour\":[{\"colorbar\":{\"outlinewidth\":0,\"ticks\":\"\"},\"colorscale\":[[0.0,\"#0d0887\"],[0.1111111111111111,\"#46039f\"],[0.2222222222222222,\"#7201a8\"],[0.3333333333333333,\"#9c179e\"],[0.4444444444444444,\"#bd3786\"],[0.5555555555555556,\"#d8576b\"],[0.6666666666666666,\"#ed7953\"],[0.7777777777777778,\"#fb9f3a\"],[0.8888888888888888,\"#fdca26\"],[1.0,\"#f0f921\"]],\"type\":\"contour\"}],\"contourcarpet\":[{\"colorbar\":{\"outlinewidth\":0,\"ticks\":\"\"},\"type\":\"contourcarpet\"}],\"heatmap\":[{\"colorbar\":{\"outlinewidth\":0,\"ticks\":\"\"},\"colorscale\":[[0.0,\"#0d0887\"],[0.1111111111111111,\"#46039f\"],[0.2222222222222222,\"#7201a8\"],[0.3333333333333333,\"#9c179e\"],[0.4444444444444444,\"#bd3786\"],[0.5555555555555556,\"#d8576b\"],[0.6666666666666666,\"#ed7953\"],[0.7777777777777778,\"#fb9f3a\"],[0.8888888888888888,\"#fdca26\"],[1.0,\"#f0f921\"]],\"type\":\"heatmap\"}],\"heatmapgl\":[{\"colorbar\":{\"outlinewidth\":0,\"ticks\":\"\"},\"colorscale\":[[0.0,\"#0d0887\"],[0.1111111111111111,\"#46039f\"],[0.2222222222222222,\"#7201a8\"],[0.3333333333333333,\"#9c179e\"],[0.4444444444444444,\"#bd3786\"],[0.5555555555555556,\"#d8576b\"],[0.6666666666666666,\"#ed7953\"],[0.7777777777777778,\"#fb9f3a\"],[0.8888888888888888,\"#fdca26\"],[1.0,\"#f0f921\"]],\"type\":\"heatmapgl\"}],\"histogram\":[{\"marker\":{\"pattern\":{\"fillmode\":\"overlay\",\"size\":10,\"solidity\":0.2}},\"type\":\"histogram\"}],\"histogram2d\":[{\"colorbar\":{\"outlinewidth\":0,\"ticks\":\"\"},\"colorscale\":[[0.0,\"#0d0887\"],[0.1111111111111111,\"#46039f\"],[0.2222222222222222,\"#7201a8\"],[0.3333333333333333,\"#9c179e\"],[0.4444444444444444,\"#bd3786\"],[0.5555555555555556,\"#d8576b\"],[0.6666666666666666,\"#ed7953\"],[0.7777777777777778,\"#fb9f3a\"],[0.8888888888888888,\"#fdca26\"],[1.0,\"#f0f921\"]],\"type\":\"histogram2d\"}],\"histogram2dcontour\":[{\"colorbar\":{\"outlinewidth\":0,\"ticks\":\"\"},\"colorscale\":[[0.0,\"#0d0887\"],[0.1111111111111111,\"#46039f\"],[0.2222222222222222,\"#7201a8\"],[0.3333333333333333,\"#9c179e\"],[0.4444444444444444,\"#bd3786\"],[0.5555555555555556,\"#d8576b\"],[0.6666666666666666,\"#ed7953\"],[0.7777777777777778,\"#fb9f3a\"],[0.8888888888888888,\"#fdca26\"],[1.0,\"#f0f921\"]],\"type\":\"histogram2dcontour\"}],\"mesh3d\":[{\"colorbar\":{\"outlinewidth\":0,\"ticks\":\"\"},\"type\":\"mesh3d\"}],\"parcoords\":[{\"line\":{\"colorbar\":{\"outlinewidth\":0,\"ticks\":\"\"}},\"type\":\"parcoords\"}],\"pie\":[{\"automargin\":true,\"type\":\"pie\"}],\"scatter\":[{\"marker\":{\"colorbar\":{\"outlinewidth\":0,\"ticks\":\"\"}},\"type\":\"scatter\"}],\"scatter3d\":[{\"line\":{\"colorbar\":{\"outlinewidth\":0,\"ticks\":\"\"}},\"marker\":{\"colorbar\":{\"outlinewidth\":0,\"ticks\":\"\"}},\"type\":\"scatter3d\"}],\"scattercarpet\":[{\"marker\":{\"colorbar\":{\"outlinewidth\":0,\"ticks\":\"\"}},\"type\":\"scattercarpet\"}],\"scattergeo\":[{\"marker\":{\"colorbar\":{\"outlinewidth\":0,\"ticks\":\"\"}},\"type\":\"scattergeo\"}],\"scattergl\":[{\"marker\":{\"colorbar\":{\"outlinewidth\":0,\"ticks\":\"\"}},\"type\":\"scattergl\"}],\"scattermapbox\":[{\"marker\":{\"colorbar\":{\"outlinewidth\":0,\"ticks\":\"\"}},\"type\":\"scattermapbox\"}],\"scatterpolar\":[{\"marker\":{\"colorbar\":{\"outlinewidth\":0,\"ticks\":\"\"}},\"type\":\"scatterpolar\"}],\"scatterpolargl\":[{\"marker\":{\"colorbar\":{\"outlinewidth\":0,\"ticks\":\"\"}},\"type\":\"scatterpolargl\"}],\"scatterternary\":[{\"marker\":{\"colorbar\":{\"outlinewidth\":0,\"ticks\":\"\"}},\"type\":\"scatterternary\"}],\"surface\":[{\"colorbar\":{\"outlinewidth\":0,\"ticks\":\"\"},\"colorscale\":[[0.0,\"#0d0887\"],[0.1111111111111111,\"#46039f\"],[0.2222222222222222,\"#7201a8\"],[0.3333333333333333,\"#9c179e\"],[0.4444444444444444,\"#bd3786\"],[0.5555555555555556,\"#d8576b\"],[0.6666666666666666,\"#ed7953\"],[0.7777777777777778,\"#fb9f3a\"],[0.8888888888888888,\"#fdca26\"],[1.0,\"#f0f921\"]],\"type\":\"surface\"}],\"table\":[{\"cells\":{\"fill\":{\"color\":\"#EBF0F8\"},\"line\":{\"color\":\"white\"}},\"header\":{\"fill\":{\"color\":\"#C8D4E3\"},\"line\":{\"color\":\"white\"}},\"type\":\"table\"}]},\"layout\":{\"annotationdefaults\":{\"arrowcolor\":\"#2a3f5f\",\"arrowhead\":0,\"arrowwidth\":1},\"autotypenumbers\":\"strict\",\"coloraxis\":{\"colorbar\":{\"outlinewidth\":0,\"ticks\":\"\"}},\"colorscale\":{\"diverging\":[[0,\"#8e0152\"],[0.1,\"#c51b7d\"],[0.2,\"#de77ae\"],[0.3,\"#f1b6da\"],[0.4,\"#fde0ef\"],[0.5,\"#f7f7f7\"],[0.6,\"#e6f5d0\"],[0.7,\"#b8e186\"],[0.8,\"#7fbc41\"],[0.9,\"#4d9221\"],[1,\"#276419\"]],\"sequential\":[[0.0,\"#0d0887\"],[0.1111111111111111,\"#46039f\"],[0.2222222222222222,\"#7201a8\"],[0.3333333333333333,\"#9c179e\"],[0.4444444444444444,\"#bd3786\"],[0.5555555555555556,\"#d8576b\"],[0.6666666666666666,\"#ed7953\"],[0.7777777777777778,\"#fb9f3a\"],[0.8888888888888888,\"#fdca26\"],[1.0,\"#f0f921\"]],\"sequentialminus\":[[0.0,\"#0d0887\"],[0.1111111111111111,\"#46039f\"],[0.2222222222222222,\"#7201a8\"],[0.3333333333333333,\"#9c179e\"],[0.4444444444444444,\"#bd3786\"],[0.5555555555555556,\"#d8576b\"],[0.6666666666666666,\"#ed7953\"],[0.7777777777777778,\"#fb9f3a\"],[0.8888888888888888,\"#fdca26\"],[1.0,\"#f0f921\"]]},\"colorway\":[\"#636efa\",\"#EF553B\",\"#00cc96\",\"#ab63fa\",\"#FFA15A\",\"#19d3f3\",\"#FF6692\",\"#B6E880\",\"#FF97FF\",\"#FECB52\"],\"font\":{\"color\":\"#2a3f5f\"},\"geo\":{\"bgcolor\":\"white\",\"lakecolor\":\"white\",\"landcolor\":\"#E5ECF6\",\"showlakes\":true,\"showland\":true,\"subunitcolor\":\"white\"},\"hoverlabel\":{\"align\":\"left\"},\"hovermode\":\"closest\",\"mapbox\":{\"style\":\"light\"},\"paper_bgcolor\":\"white\",\"plot_bgcolor\":\"#E5ECF6\",\"polar\":{\"angularaxis\":{\"gridcolor\":\"white\",\"linecolor\":\"white\",\"ticks\":\"\"},\"bgcolor\":\"#E5ECF6\",\"radialaxis\":{\"gridcolor\":\"white\",\"linecolor\":\"white\",\"ticks\":\"\"}},\"scene\":{\"xaxis\":{\"backgroundcolor\":\"#E5ECF6\",\"gridcolor\":\"white\",\"gridwidth\":2,\"linecolor\":\"white\",\"showbackground\":true,\"ticks\":\"\",\"zerolinecolor\":\"white\"},\"yaxis\":{\"backgroundcolor\":\"#E5ECF6\",\"gridcolor\":\"white\",\"gridwidth\":2,\"linecolor\":\"white\",\"showbackground\":true,\"ticks\":\"\",\"zerolinecolor\":\"white\"},\"zaxis\":{\"backgroundcolor\":\"#E5ECF6\",\"gridcolor\":\"white\",\"gridwidth\":2,\"linecolor\":\"white\",\"showbackground\":true,\"ticks\":\"\",\"zerolinecolor\":\"white\"}},\"shapedefaults\":{\"line\":{\"color\":\"#2a3f5f\"}},\"ternary\":{\"aaxis\":{\"gridcolor\":\"white\",\"linecolor\":\"white\",\"ticks\":\"\"},\"baxis\":{\"gridcolor\":\"white\",\"linecolor\":\"white\",\"ticks\":\"\"},\"bgcolor\":\"#E5ECF6\",\"caxis\":{\"gridcolor\":\"white\",\"linecolor\":\"white\",\"ticks\":\"\"}},\"title\":{\"x\":0.05},\"xaxis\":{\"automargin\":true,\"gridcolor\":\"white\",\"linecolor\":\"white\",\"ticks\":\"\",\"title\":{\"standoff\":15},\"zerolinecolor\":\"white\",\"zerolinewidth\":2},\"yaxis\":{\"automargin\":true,\"gridcolor\":\"white\",\"linecolor\":\"white\",\"ticks\":\"\",\"title\":{\"standoff\":15},\"zerolinecolor\":\"white\",\"zerolinewidth\":2}}},\"legend\":{\"tracegroupgap\":0},\"margin\":{\"t\":60}},                        {\"responsive\": true}                    ).then(function(){\n",
              "                            \n",
              "var gd = document.getElementById('0c3d3c9f-d773-4831-b1d2-d07695c87c12');\n",
              "var x = new MutationObserver(function (mutations, observer) {{\n",
              "        var display = window.getComputedStyle(gd).display;\n",
              "        if (!display || display === 'none') {{\n",
              "            console.log([gd, 'removed!']);\n",
              "            Plotly.purge(gd);\n",
              "            observer.disconnect();\n",
              "        }}\n",
              "}});\n",
              "\n",
              "// Listen for the removal of the full notebook cells\n",
              "var notebookContainer = gd.closest('#notebook-container');\n",
              "if (notebookContainer) {{\n",
              "    x.observe(notebookContainer, {childList: true});\n",
              "}}\n",
              "\n",
              "// Listen for the clearing of the current output cell\n",
              "var outputEl = gd.closest('.output');\n",
              "if (outputEl) {{\n",
              "    x.observe(outputEl, {childList: true});\n",
              "}}\n",
              "\n",
              "                        })                };                            </script>        </div>\n",
              "</body>\n",
              "</html>"
            ]
          },
          "metadata": {}
        }
      ]
    },
    {
      "cell_type": "markdown",
      "source": [
        "![Treemap_1_fig1_Taller_3.png](data:image/png;base64,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)"
      ],
      "metadata": {
        "id": "qQnC48d88TqM"
      }
    },
    {
      "cell_type": "markdown",
      "source": [
        "### **Visualización:** Enfermedades de antecedentes familiares asociados al nivel educativo para calcular el índice muscular graso de cada individuo."
      ],
      "metadata": {
        "id": "5TsLb4z_xzG7"
      }
    },
    {
      "cell_type": "markdown",
      "source": [
        "#### El grafico Treemap nos muestra el total individuos asociados por enfermedades familiares desagregado por Nivel educativo evaluando cuales tienen más índice muscular graso de un estudio para evaluar la relación entre la masa muscular, masa grasa y riesgo cardio metabólico en adultos entre 20 y 60 años aparentemente sanos en la ciudad de Bogotá."
      ],
      "metadata": {
        "id": "efZw0xgIy64J"
      }
    },
    {
      "cell_type": "markdown",
      "source": [
        "## ¿Qué?\n",
        "La base de datos utilizada para la realización de la visualización proviene de la información de los pacientes adultos entre 20 y 60 años de la ciudad de Bogotá.\n"
      ],
      "metadata": {
        "id": "PmQn2MEb0q49"
      }
    },
    {
      "cell_type": "markdown",
      "source": [
        "## ¿Por Qué?\n",
        "Comparar tendencia: \n",
        "Se quiere identificar a través de las variables Categoría antecedentes (Antecedentes de enfermedades familiares) y el Nivel educativo de los mismos cuales tienen más índice de masa corporal graso.\n"
      ],
      "metadata": {
        "id": "w_vcJ_pE1rMy"
      }
    },
    {
      "cell_type": "markdown",
      "source": [
        "## ¿Como?\n",
        "Se realiza una codificación de las variables de estudio para evaluar en que nivel educativo tienen mayor índice de masa corporal grasa.\n"
      ],
      "metadata": {
        "id": "CStfxZeY11UZ"
      }
    },
    {
      "cell_type": "markdown",
      "source": [
        "## Marcas y canales\n",
        "Las marcas y los canales utilizados en las visualizaciones son:\n",
        "Marca de área sobre la variable categoría antecedentes agrupada por nivel educativo representando cuales tiene más índice muscular graso.\n",
        "Canal de posición espacial vertical para representar el índice muscular graso por nivel educativo en cada una de las categorías de antecedentes (Enfermedades familiares).\n",
        "Canal de posición espacial horizontal para representar el tamaño de los niveles de índice muscular graso.\n"
      ],
      "metadata": {
        "id": "TOAKqY8r2KD5"
      }
    },
    {
      "cell_type": "markdown",
      "source": [
        "## Conclusiones \n",
        "La visualización nos ayuda a identificar que los individuos con antecedentes familiares de Cáncer en un mayor porcentaje son Bachilleres y tienen mayor índice muscular graso.\n",
        "Adicionalmente se identifica que los individuos con antecedentes familiares con enfermedades cardiovasculares en un mayor porcentaje son Profesionales y tienen mayor índice muscular graso.\n"
      ],
      "metadata": {
        "id": "DR8oVf8_4tzE"
      }
    },
    {
      "cell_type": "code",
      "source": [
        "pd.crosstab(Data['SEXO'],Data['EDAD'])"
      ],
      "metadata": {
        "colab": {
          "base_uri": "https://localhost:8080/",
          "height": 173
        },
        "id": "Mz2b8FjHbxnd",
        "outputId": "3ce78d13-52ed-49f8-f7c3-2226fd286c2f"
      },
      "execution_count": null,
      "outputs": [
        {
          "output_type": "execute_result",
          "data": {
            "text/plain": [
              "EDAD    20  21  22  23  24  25  26  27  29  30  ...  51  52  53  54  55  56  \\\n",
              "SEXO                                            ...                           \n",
              "Famale   1   2   4   3   1   1   1   1   0   0  ...   1   0   0   0   4   1   \n",
              "Male     0   5   2   1   3   3   3   0   2   1  ...   0   1   1   1   1   1   \n",
              "\n",
              "EDAD    57  58  59  60  \n",
              "SEXO                    \n",
              "Famale   1   1   1   0  \n",
              "Male     0   1   0   2  \n",
              "\n",
              "[2 rows x 35 columns]"
            ],
            "text/html": [
              "\n",
              "  <div id=\"df-1c136875-0fcb-4337-aa46-7c6792cec728\">\n",
              "    <div class=\"colab-df-container\">\n",
              "      <div>\n",
              "<style scoped>\n",
              "    .dataframe tbody tr th:only-of-type {\n",
              "        vertical-align: middle;\n",
              "    }\n",
              "\n",
              "    .dataframe tbody tr th {\n",
              "        vertical-align: top;\n",
              "    }\n",
              "\n",
              "    .dataframe thead th {\n",
              "        text-align: right;\n",
              "    }\n",
              "</style>\n",
              "<table border=\"1\" class=\"dataframe\">\n",
              "  <thead>\n",
              "    <tr style=\"text-align: right;\">\n",
              "      <th>EDAD</th>\n",
              "      <th>20</th>\n",
              "      <th>21</th>\n",
              "      <th>22</th>\n",
              "      <th>23</th>\n",
              "      <th>24</th>\n",
              "      <th>25</th>\n",
              "      <th>26</th>\n",
              "      <th>27</th>\n",
              "      <th>29</th>\n",
              "      <th>30</th>\n",
              "      <th>...</th>\n",
              "      <th>51</th>\n",
              "      <th>52</th>\n",
              "      <th>53</th>\n",
              "      <th>54</th>\n",
              "      <th>55</th>\n",
              "      <th>56</th>\n",
              "      <th>57</th>\n",
              "      <th>58</th>\n",
              "      <th>59</th>\n",
              "      <th>60</th>\n",
              "    </tr>\n",
              "    <tr>\n",
              "      <th>SEXO</th>\n",
              "      <th></th>\n",
              "      <th></th>\n",
              "      <th></th>\n",
              "      <th></th>\n",
              "      <th></th>\n",
              "      <th></th>\n",
              "      <th></th>\n",
              "      <th></th>\n",
              "      <th></th>\n",
              "      <th></th>\n",
              "      <th></th>\n",
              "      <th></th>\n",
              "      <th></th>\n",
              "      <th></th>\n",
              "      <th></th>\n",
              "      <th></th>\n",
              "      <th></th>\n",
              "      <th></th>\n",
              "      <th></th>\n",
              "      <th></th>\n",
              "      <th></th>\n",
              "    </tr>\n",
              "  </thead>\n",
              "  <tbody>\n",
              "    <tr>\n",
              "      <th>Famale</th>\n",
              "      <td>1</td>\n",
              "      <td>2</td>\n",
              "      <td>4</td>\n",
              "      <td>3</td>\n",
              "      <td>1</td>\n",
              "      <td>1</td>\n",
              "      <td>1</td>\n",
              "      <td>1</td>\n",
              "      <td>0</td>\n",
              "      <td>0</td>\n",
              "      <td>...</td>\n",
              "      <td>1</td>\n",
              "      <td>0</td>\n",
              "      <td>0</td>\n",
              "      <td>0</td>\n",
              "      <td>4</td>\n",
              "      <td>1</td>\n",
              "      <td>1</td>\n",
              "      <td>1</td>\n",
              "      <td>1</td>\n",
              "      <td>0</td>\n",
              "    </tr>\n",
              "    <tr>\n",
              "      <th>Male</th>\n",
              "      <td>0</td>\n",
              "      <td>5</td>\n",
              "      <td>2</td>\n",
              "      <td>1</td>\n",
              "      <td>3</td>\n",
              "      <td>3</td>\n",
              "      <td>3</td>\n",
              "      <td>0</td>\n",
              "      <td>2</td>\n",
              "      <td>1</td>\n",
              "      <td>...</td>\n",
              "      <td>0</td>\n",
              "      <td>1</td>\n",
              "      <td>1</td>\n",
              "      <td>1</td>\n",
              "      <td>1</td>\n",
              "      <td>1</td>\n",
              "      <td>0</td>\n",
              "      <td>1</td>\n",
              "      <td>0</td>\n",
              "      <td>2</td>\n",
              "    </tr>\n",
              "  </tbody>\n",
              "</table>\n",
              "<p>2 rows × 35 columns</p>\n",
              "</div>\n",
              "      <button class=\"colab-df-convert\" onclick=\"convertToInteractive('df-1c136875-0fcb-4337-aa46-7c6792cec728')\"\n",
              "              title=\"Convert this dataframe to an interactive table.\"\n",
              "              style=\"display:none;\">\n",
              "        \n",
              "  <svg xmlns=\"http://www.w3.org/2000/svg\" height=\"24px\"viewBox=\"0 0 24 24\"\n",
              "       width=\"24px\">\n",
              "    <path d=\"M0 0h24v24H0V0z\" fill=\"none\"/>\n",
              "    <path d=\"M18.56 5.44l.94 2.06.94-2.06 2.06-.94-2.06-.94-.94-2.06-.94 2.06-2.06.94zm-11 1L8.5 8.5l.94-2.06 2.06-.94-2.06-.94L8.5 2.5l-.94 2.06-2.06.94zm10 10l.94 2.06.94-2.06 2.06-.94-2.06-.94-.94-2.06-.94 2.06-2.06.94z\"/><path d=\"M17.41 7.96l-1.37-1.37c-.4-.4-.92-.59-1.43-.59-.52 0-1.04.2-1.43.59L10.3 9.45l-7.72 7.72c-.78.78-.78 2.05 0 2.83L4 21.41c.39.39.9.59 1.41.59.51 0 1.02-.2 1.41-.59l7.78-7.78 2.81-2.81c.8-.78.8-2.07 0-2.86zM5.41 20L4 18.59l7.72-7.72 1.47 1.35L5.41 20z\"/>\n",
              "  </svg>\n",
              "      </button>\n",
              "      \n",
              "  <style>\n",
              "    .colab-df-container {\n",
              "      display:flex;\n",
              "      flex-wrap:wrap;\n",
              "      gap: 12px;\n",
              "    }\n",
              "\n",
              "    .colab-df-convert {\n",
              "      background-color: #E8F0FE;\n",
              "      border: none;\n",
              "      border-radius: 50%;\n",
              "      cursor: pointer;\n",
              "      display: none;\n",
              "      fill: #1967D2;\n",
              "      height: 32px;\n",
              "      padding: 0 0 0 0;\n",
              "      width: 32px;\n",
              "    }\n",
              "\n",
              "    .colab-df-convert:hover {\n",
              "      background-color: #E2EBFA;\n",
              "      box-shadow: 0px 1px 2px rgba(60, 64, 67, 0.3), 0px 1px 3px 1px rgba(60, 64, 67, 0.15);\n",
              "      fill: #174EA6;\n",
              "    }\n",
              "\n",
              "    [theme=dark] .colab-df-convert {\n",
              "      background-color: #3B4455;\n",
              "      fill: #D2E3FC;\n",
              "    }\n",
              "\n",
              "    [theme=dark] .colab-df-convert:hover {\n",
              "      background-color: #434B5C;\n",
              "      box-shadow: 0px 1px 3px 1px rgba(0, 0, 0, 0.15);\n",
              "      filter: drop-shadow(0px 1px 2px rgba(0, 0, 0, 0.3));\n",
              "      fill: #FFFFFF;\n",
              "    }\n",
              "  </style>\n",
              "\n",
              "      <script>\n",
              "        const buttonEl =\n",
              "          document.querySelector('#df-1c136875-0fcb-4337-aa46-7c6792cec728 button.colab-df-convert');\n",
              "        buttonEl.style.display =\n",
              "          google.colab.kernel.accessAllowed ? 'block' : 'none';\n",
              "\n",
              "        async function convertToInteractive(key) {\n",
              "          const element = document.querySelector('#df-1c136875-0fcb-4337-aa46-7c6792cec728');\n",
              "          const dataTable =\n",
              "            await google.colab.kernel.invokeFunction('convertToInteractive',\n",
              "                                                     [key], {});\n",
              "          if (!dataTable) return;\n",
              "\n",
              "          const docLinkHtml = 'Like what you see? Visit the ' +\n",
              "            '<a target=\"_blank\" href=https://colab.research.google.com/notebooks/data_table.ipynb>data table notebook</a>'\n",
              "            + ' to learn more about interactive tables.';\n",
              "          element.innerHTML = '';\n",
              "          dataTable['output_type'] = 'display_data';\n",
              "          await google.colab.output.renderOutput(dataTable, element);\n",
              "          const docLink = document.createElement('div');\n",
              "          docLink.innerHTML = docLinkHtml;\n",
              "          element.appendChild(docLink);\n",
              "        }\n",
              "      </script>\n",
              "    </div>\n",
              "  </div>\n",
              "  "
            ]
          },
          "metadata": {},
          "execution_count": 55
        }
      ]
    },
    {
      "cell_type": "code",
      "source": [
        "fig2 = px.treemap(Data, path=['SEXO', 'EDAD'],\n",
        "                 values='IMC', color='ESTRATO')\n",
        "fig2"
      ],
      "metadata": {
        "colab": {
          "base_uri": "https://localhost:8080/",
          "height": 542
        },
        "id": "5ZhGeUdTb3HN",
        "outputId": "622201be-ac50-436c-870e-fe800636e0f4"
      },
      "execution_count": null,
      "outputs": [
        {
          "output_type": "display_data",
          "data": {
            "text/html": [
              "<html>\n",
              "<head><meta charset=\"utf-8\" /></head>\n",
              "<body>\n",
              "    <div>            <script src=\"https://cdnjs.cloudflare.com/ajax/libs/mathjax/2.7.5/MathJax.js?config=TeX-AMS-MML_SVG\"></script><script type=\"text/javascript\">if (window.MathJax) {MathJax.Hub.Config({SVG: {font: \"STIX-Web\"}});}</script>                <script type=\"text/javascript\">window.PlotlyConfig = {MathJaxConfig: 'local'};</script>\n",
              "        <script src=\"https://cdn.plot.ly/plotly-2.8.3.min.js\"></script>                <div id=\"1c82d813-6fcd-46ae-a19f-afc2ae89bac1\" class=\"plotly-graph-div\" style=\"height:525px; width:100%;\"></div>            <script type=\"text/javascript\">                                    window.PLOTLYENV=window.PLOTLYENV || {};                                    if (document.getElementById(\"1c82d813-6fcd-46ae-a19f-afc2ae89bac1\")) {                    Plotly.newPlot(                        \"1c82d813-6fcd-46ae-a19f-afc2ae89bac1\",                        [{\"branchvalues\":\"total\",\"customdata\":[[3.0],[2.0],[3.3211289092295964],[3.2531250000000003],[2.778588807785888],[2.3018080667593876],[2.9999999999999996],[2.0],[3.0],[3.0],[2.649253731343284],[2.0],[2.335302806499261],[3.0],[2.50990990990991],[4.0],[2.7084188911704308],[2.0],[2.9999999999999996],[4.0],[3.0],[3.0000000000000004],[2.0],[2.806896551724138],[3.0],[3.0],[3.0000000000000004],[2.742857142857143],[3.0],[3.0],[3.291933418693983],[3.0000000000000004],[3.0000000000000004],[2.0],[3.0000000000000004],[3.0],[3.0],[3.0],[2.0],[2.7324324324324323],[3.0],[3.0],[3.0],[3.0],[4.0],[3.0000000000000004],[3.0],[3.0000000000000004],[2.869001876507908],[2.8435902678388874]],\"domain\":{\"x\":[0.0,1.0],\"y\":[0.0,1.0]},\"hovertemplate\":\"labels=%{label}<br>IMC=%{value}<br>parent=%{parent}<br>id=%{id}<br>ESTRATO=%{color}<extra></extra>\",\"ids\":[\"Famale/20\",\"Famale/21\",\"Male/21\",\"Famale/22\",\"Male/22\",\"Famale/23\",\"Male/23\",\"Famale/24\",\"Male/24\",\"Famale/25\",\"Male/25\",\"Famale/26\",\"Male/26\",\"Famale/27\",\"Male/29\",\"Male/30\",\"Famale/32\",\"Famale/34\",\"Male/34\",\"Famale/35\",\"Famale/37\",\"Famale/38\",\"Male/39\",\"Famale/40\",\"Male/40\",\"Male/42\",\"Famale/44\",\"Male/44\",\"Famale/45\",\"Famale/46\",\"Famale/47\",\"Famale/48\",\"Famale/49\",\"Male/49\",\"Famale/50\",\"Famale/51\",\"Male/52\",\"Male/53\",\"Male/54\",\"Famale/55\",\"Male/55\",\"Famale/56\",\"Male/56\",\"Famale/57\",\"Famale/58\",\"Male/58\",\"Famale/59\",\"Male/60\",\"Famale\",\"Male\"],\"labels\":[\"20\",\"21\",\"21\",\"22\",\"22\",\"23\",\"23\",\"24\",\"24\",\"25\",\"25\",\"26\",\"26\",\"27\",\"29\",\"30\",\"32\",\"34\",\"34\",\"35\",\"37\",\"38\",\"39\",\"40\",\"40\",\"42\",\"44\",\"44\",\"45\",\"46\",\"47\",\"48\",\"49\",\"49\",\"50\",\"51\",\"52\",\"53\",\"54\",\"55\",\"55\",\"56\",\"56\",\"57\",\"58\",\"58\",\"59\",\"60\",\"Famale\",\"Male\"],\"marker\":{\"coloraxis\":\"coloraxis\",\"colors\":[3.0,2.0,3.3211289092295964,3.2531250000000003,2.778588807785888,2.3018080667593876,2.9999999999999996,2.0,3.0,3.0,2.649253731343284,2.0,2.335302806499261,3.0,2.50990990990991,4.0,2.7084188911704308,2.0,2.9999999999999996,4.0,3.0,3.0000000000000004,2.0,2.806896551724138,3.0,3.0,3.0000000000000004,2.742857142857143,3.0,3.0,3.291933418693983,3.0000000000000004,3.0000000000000004,2.0,3.0000000000000004,3.0,3.0,3.0,2.0,2.7324324324324323,3.0,3.0,3.0,3.0,4.0,3.0000000000000004,3.0,3.0000000000000004,2.869001876507908,2.8435902678388874]},\"name\":\"\",\"parents\":[\"Famale\",\"Famale\",\"Male\",\"Famale\",\"Male\",\"Famale\",\"Male\",\"Famale\",\"Male\",\"Famale\",\"Male\",\"Famale\",\"Male\",\"Famale\",\"Male\",\"Male\",\"Famale\",\"Famale\",\"Male\",\"Famale\",\"Famale\",\"Famale\",\"Male\",\"Famale\",\"Male\",\"Male\",\"Famale\",\"Male\",\"Famale\",\"Famale\",\"Famale\",\"Famale\",\"Famale\",\"Male\",\"Famale\",\"Famale\",\"Male\",\"Male\",\"Male\",\"Famale\",\"Male\",\"Famale\",\"Male\",\"Famale\",\"Famale\",\"Male\",\"Famale\",\"Male\",\"\",\"\"],\"values\":[20.4,48.8,131.1,96.0,41.1,71.9,22.9,22.0,59.5,21.1,80.4,26.5,67.7,23.7,55.5,20.7,97.4,29.0,87.6,23.7,67.0,28.6,25.2,58.0,27.2,28.3,24.1,80.5,23.8,28.2,78.1,26.6,25.1,27.2,26.1,26.8,28.7,24.8,33.2,111.0,27.5,21.7,24.7,34.9,28.4,28.1,30.2,56.3,1119.1,978.2],\"type\":\"treemap\"}],                        {\"template\":{\"data\":{\"bar\":[{\"error_x\":{\"color\":\"#2a3f5f\"},\"error_y\":{\"color\":\"#2a3f5f\"},\"marker\":{\"line\":{\"color\":\"#E5ECF6\",\"width\":0.5},\"pattern\":{\"fillmode\":\"overlay\",\"size\":10,\"solidity\":0.2}},\"type\":\"bar\"}],\"barpolar\":[{\"marker\":{\"line\":{\"color\":\"#E5ECF6\",\"width\":0.5},\"pattern\":{\"fillmode\":\"overlay\",\"size\":10,\"solidity\":0.2}},\"type\":\"barpolar\"}],\"carpet\":[{\"aaxis\":{\"endlinecolor\":\"#2a3f5f\",\"gridcolor\":\"white\",\"linecolor\":\"white\",\"minorgridcolor\":\"white\",\"startlinecolor\":\"#2a3f5f\"},\"baxis\":{\"endlinecolor\":\"#2a3f5f\",\"gridcolor\":\"white\",\"linecolor\":\"white\",\"minorgridcolor\":\"white\",\"startlinecolor\":\"#2a3f5f\"},\"type\":\"carpet\"}],\"choropleth\":[{\"colorbar\":{\"outlinewidth\":0,\"ticks\":\"\"},\"type\":\"choropleth\"}],\"contour\":[{\"colorbar\":{\"outlinewidth\":0,\"ticks\":\"\"},\"colorscale\":[[0.0,\"#0d0887\"],[0.1111111111111111,\"#46039f\"],[0.2222222222222222,\"#7201a8\"],[0.3333333333333333,\"#9c179e\"],[0.4444444444444444,\"#bd3786\"],[0.5555555555555556,\"#d8576b\"],[0.6666666666666666,\"#ed7953\"],[0.7777777777777778,\"#fb9f3a\"],[0.8888888888888888,\"#fdca26\"],[1.0,\"#f0f921\"]],\"type\":\"contour\"}],\"contourcarpet\":[{\"colorbar\":{\"outlinewidth\":0,\"ticks\":\"\"},\"type\":\"contourcarpet\"}],\"heatmap\":[{\"colorbar\":{\"outlinewidth\":0,\"ticks\":\"\"},\"colorscale\":[[0.0,\"#0d0887\"],[0.1111111111111111,\"#46039f\"],[0.2222222222222222,\"#7201a8\"],[0.3333333333333333,\"#9c179e\"],[0.4444444444444444,\"#bd3786\"],[0.5555555555555556,\"#d8576b\"],[0.6666666666666666,\"#ed7953\"],[0.7777777777777778,\"#fb9f3a\"],[0.8888888888888888,\"#fdca26\"],[1.0,\"#f0f921\"]],\"type\":\"heatmap\"}],\"heatmapgl\":[{\"colorbar\":{\"outlinewidth\":0,\"ticks\":\"\"},\"colorscale\":[[0.0,\"#0d0887\"],[0.1111111111111111,\"#46039f\"],[0.2222222222222222,\"#7201a8\"],[0.3333333333333333,\"#9c179e\"],[0.4444444444444444,\"#bd3786\"],[0.5555555555555556,\"#d8576b\"],[0.6666666666666666,\"#ed7953\"],[0.7777777777777778,\"#fb9f3a\"],[0.8888888888888888,\"#fdca26\"],[1.0,\"#f0f921\"]],\"type\":\"heatmapgl\"}],\"histogram\":[{\"marker\":{\"pattern\":{\"fillmode\":\"overlay\",\"size\":10,\"solidity\":0.2}},\"type\":\"histogram\"}],\"histogram2d\":[{\"colorbar\":{\"outlinewidth\":0,\"ticks\":\"\"},\"colorscale\":[[0.0,\"#0d0887\"],[0.1111111111111111,\"#46039f\"],[0.2222222222222222,\"#7201a8\"],[0.3333333333333333,\"#9c179e\"],[0.4444444444444444,\"#bd3786\"],[0.5555555555555556,\"#d8576b\"],[0.6666666666666666,\"#ed7953\"],[0.7777777777777778,\"#fb9f3a\"],[0.8888888888888888,\"#fdca26\"],[1.0,\"#f0f921\"]],\"type\":\"histogram2d\"}],\"histogram2dcontour\":[{\"colorbar\":{\"outlinewidth\":0,\"ticks\":\"\"},\"colorscale\":[[0.0,\"#0d0887\"],[0.1111111111111111,\"#46039f\"],[0.2222222222222222,\"#7201a8\"],[0.3333333333333333,\"#9c179e\"],[0.4444444444444444,\"#bd3786\"],[0.5555555555555556,\"#d8576b\"],[0.6666666666666666,\"#ed7953\"],[0.7777777777777778,\"#fb9f3a\"],[0.8888888888888888,\"#fdca26\"],[1.0,\"#f0f921\"]],\"type\":\"histogram2dcontour\"}],\"mesh3d\":[{\"colorbar\":{\"outlinewidth\":0,\"ticks\":\"\"},\"type\":\"mesh3d\"}],\"parcoords\":[{\"line\":{\"colorbar\":{\"outlinewidth\":0,\"ticks\":\"\"}},\"type\":\"parcoords\"}],\"pie\":[{\"automargin\":true,\"type\":\"pie\"}],\"scatter\":[{\"marker\":{\"colorbar\":{\"outlinewidth\":0,\"ticks\":\"\"}},\"type\":\"scatter\"}],\"scatter3d\":[{\"line\":{\"colorbar\":{\"outlinewidth\":0,\"ticks\":\"\"}},\"marker\":{\"colorbar\":{\"outlinewidth\":0,\"ticks\":\"\"}},\"type\":\"scatter3d\"}],\"scattercarpet\":[{\"marker\":{\"colorbar\":{\"outlinewidth\":0,\"ticks\":\"\"}},\"type\":\"scattercarpet\"}],\"scattergeo\":[{\"marker\":{\"colorbar\":{\"outlinewidth\":0,\"ticks\":\"\"}},\"type\":\"scattergeo\"}],\"scattergl\":[{\"marker\":{\"colorbar\":{\"outlinewidth\":0,\"ticks\":\"\"}},\"type\":\"scattergl\"}],\"scattermapbox\":[{\"marker\":{\"colorbar\":{\"outlinewidth\":0,\"ticks\":\"\"}},\"type\":\"scattermapbox\"}],\"scatterpolar\":[{\"marker\":{\"colorbar\":{\"outlinewidth\":0,\"ticks\":\"\"}},\"type\":\"scatterpolar\"}],\"scatterpolargl\":[{\"marker\":{\"colorbar\":{\"outlinewidth\":0,\"ticks\":\"\"}},\"type\":\"scatterpolargl\"}],\"scatterternary\":[{\"marker\":{\"colorbar\":{\"outlinewidth\":0,\"ticks\":\"\"}},\"type\":\"scatterternary\"}],\"surface\":[{\"colorbar\":{\"outlinewidth\":0,\"ticks\":\"\"},\"colorscale\":[[0.0,\"#0d0887\"],[0.1111111111111111,\"#46039f\"],[0.2222222222222222,\"#7201a8\"],[0.3333333333333333,\"#9c179e\"],[0.4444444444444444,\"#bd3786\"],[0.5555555555555556,\"#d8576b\"],[0.6666666666666666,\"#ed7953\"],[0.7777777777777778,\"#fb9f3a\"],[0.8888888888888888,\"#fdca26\"],[1.0,\"#f0f921\"]],\"type\":\"surface\"}],\"table\":[{\"cells\":{\"fill\":{\"color\":\"#EBF0F8\"},\"line\":{\"color\":\"white\"}},\"header\":{\"fill\":{\"color\":\"#C8D4E3\"},\"line\":{\"color\":\"white\"}},\"type\":\"table\"}]},\"layout\":{\"annotationdefaults\":{\"arrowcolor\":\"#2a3f5f\",\"arrowhead\":0,\"arrowwidth\":1},\"autotypenumbers\":\"strict\",\"coloraxis\":{\"colorbar\":{\"outlinewidth\":0,\"ticks\":\"\"}},\"colorscale\":{\"diverging\":[[0,\"#8e0152\"],[0.1,\"#c51b7d\"],[0.2,\"#de77ae\"],[0.3,\"#f1b6da\"],[0.4,\"#fde0ef\"],[0.5,\"#f7f7f7\"],[0.6,\"#e6f5d0\"],[0.7,\"#b8e186\"],[0.8,\"#7fbc41\"],[0.9,\"#4d9221\"],[1,\"#276419\"]],\"sequential\":[[0.0,\"#0d0887\"],[0.1111111111111111,\"#46039f\"],[0.2222222222222222,\"#7201a8\"],[0.3333333333333333,\"#9c179e\"],[0.4444444444444444,\"#bd3786\"],[0.5555555555555556,\"#d8576b\"],[0.6666666666666666,\"#ed7953\"],[0.7777777777777778,\"#fb9f3a\"],[0.8888888888888888,\"#fdca26\"],[1.0,\"#f0f921\"]],\"sequentialminus\":[[0.0,\"#0d0887\"],[0.1111111111111111,\"#46039f\"],[0.2222222222222222,\"#7201a8\"],[0.3333333333333333,\"#9c179e\"],[0.4444444444444444,\"#bd3786\"],[0.5555555555555556,\"#d8576b\"],[0.6666666666666666,\"#ed7953\"],[0.7777777777777778,\"#fb9f3a\"],[0.8888888888888888,\"#fdca26\"],[1.0,\"#f0f921\"]]},\"colorway\":[\"#636efa\",\"#EF553B\",\"#00cc96\",\"#ab63fa\",\"#FFA15A\",\"#19d3f3\",\"#FF6692\",\"#B6E880\",\"#FF97FF\",\"#FECB52\"],\"font\":{\"color\":\"#2a3f5f\"},\"geo\":{\"bgcolor\":\"white\",\"lakecolor\":\"white\",\"landcolor\":\"#E5ECF6\",\"showlakes\":true,\"showland\":true,\"subunitcolor\":\"white\"},\"hoverlabel\":{\"align\":\"left\"},\"hovermode\":\"closest\",\"mapbox\":{\"style\":\"light\"},\"paper_bgcolor\":\"white\",\"plot_bgcolor\":\"#E5ECF6\",\"polar\":{\"angularaxis\":{\"gridcolor\":\"white\",\"linecolor\":\"white\",\"ticks\":\"\"},\"bgcolor\":\"#E5ECF6\",\"radialaxis\":{\"gridcolor\":\"white\",\"linecolor\":\"white\",\"ticks\":\"\"}},\"scene\":{\"xaxis\":{\"backgroundcolor\":\"#E5ECF6\",\"gridcolor\":\"white\",\"gridwidth\":2,\"linecolor\":\"white\",\"showbackground\":true,\"ticks\":\"\",\"zerolinecolor\":\"white\"},\"yaxis\":{\"backgroundcolor\":\"#E5ECF6\",\"gridcolor\":\"white\",\"gridwidth\":2,\"linecolor\":\"white\",\"showbackground\":true,\"ticks\":\"\",\"zerolinecolor\":\"white\"},\"zaxis\":{\"backgroundcolor\":\"#E5ECF6\",\"gridcolor\":\"white\",\"gridwidth\":2,\"linecolor\":\"white\",\"showbackground\":true,\"ticks\":\"\",\"zerolinecolor\":\"white\"}},\"shapedefaults\":{\"line\":{\"color\":\"#2a3f5f\"}},\"ternary\":{\"aaxis\":{\"gridcolor\":\"white\",\"linecolor\":\"white\",\"ticks\":\"\"},\"baxis\":{\"gridcolor\":\"white\",\"linecolor\":\"white\",\"ticks\":\"\"},\"bgcolor\":\"#E5ECF6\",\"caxis\":{\"gridcolor\":\"white\",\"linecolor\":\"white\",\"ticks\":\"\"}},\"title\":{\"x\":0.05},\"xaxis\":{\"automargin\":true,\"gridcolor\":\"white\",\"linecolor\":\"white\",\"ticks\":\"\",\"title\":{\"standoff\":15},\"zerolinecolor\":\"white\",\"zerolinewidth\":2},\"yaxis\":{\"automargin\":true,\"gridcolor\":\"white\",\"linecolor\":\"white\",\"ticks\":\"\",\"title\":{\"standoff\":15},\"zerolinecolor\":\"white\",\"zerolinewidth\":2}}},\"coloraxis\":{\"colorbar\":{\"title\":{\"text\":\"ESTRATO\"}},\"colorscale\":[[0.0,\"#0d0887\"],[0.1111111111111111,\"#46039f\"],[0.2222222222222222,\"#7201a8\"],[0.3333333333333333,\"#9c179e\"],[0.4444444444444444,\"#bd3786\"],[0.5555555555555556,\"#d8576b\"],[0.6666666666666666,\"#ed7953\"],[0.7777777777777778,\"#fb9f3a\"],[0.8888888888888888,\"#fdca26\"],[1.0,\"#f0f921\"]]},\"legend\":{\"tracegroupgap\":0},\"margin\":{\"t\":60}},                        {\"responsive\": true}                    ).then(function(){\n",
              "                            \n",
              "var gd = document.getElementById('1c82d813-6fcd-46ae-a19f-afc2ae89bac1');\n",
              "var x = new MutationObserver(function (mutations, observer) {{\n",
              "        var display = window.getComputedStyle(gd).display;\n",
              "        if (!display || display === 'none') {{\n",
              "            console.log([gd, 'removed!']);\n",
              "            Plotly.purge(gd);\n",
              "            observer.disconnect();\n",
              "        }}\n",
              "}});\n",
              "\n",
              "// Listen for the removal of the full notebook cells\n",
              "var notebookContainer = gd.closest('#notebook-container');\n",
              "if (notebookContainer) {{\n",
              "    x.observe(notebookContainer, {childList: true});\n",
              "}}\n",
              "\n",
              "// Listen for the clearing of the current output cell\n",
              "var outputEl = gd.closest('.output');\n",
              "if (outputEl) {{\n",
              "    x.observe(outputEl, {childList: true});\n",
              "}}\n",
              "\n",
              "                        })                };                            </script>        </div>\n",
              "</body>\n",
              "</html>"
            ]
          },
          "metadata": {}
        }
      ]
    },
    {
      "cell_type": "markdown",
      "source": [
        "![Treemap_2_fig2_Taller_3.png](data:image/png;base64,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)"
      ],
      "metadata": {
        "id": "J9Xhg8hG8cLV"
      }
    },
    {
      "cell_type": "markdown",
      "source": [
        "### **Visualización:** Sexo asociados a la edad para calcular el IMC de cada individuo."
      ],
      "metadata": {
        "id": "fbVhDIUrkVPE"
      }
    },
    {
      "cell_type": "markdown",
      "source": [
        "#### El grafico Treemap nos muestra el total individuos asociados por Sexo desagregado por Edad evaluando cuales tienen más IMC (índice de masa corporal) de un estudio para evaluar la relación entre el índice de masa corporal,  grasa y riesgo cardio metabólico en adultos entre 20 y 60 años aparentemente sanos en la ciudad de Bogotá."
      ],
      "metadata": {
        "id": "fgW2AE3JkkiM"
      }
    },
    {
      "cell_type": "markdown",
      "source": [
        "## ¿Qué?\n",
        "La base de datos utilizada para la realización de la visualización proviene de la información de los pacientes adultos entre 20 y 60 años de la ciudad de Bogotá."
      ],
      "metadata": {
        "id": "zBg4IxAalIbz"
      }
    },
    {
      "cell_type": "markdown",
      "source": [
        "## ¿Por Qué?\n",
        "Comparar tendencias: \n",
        "Se quiere identificar a través de las variables Categoría Sexo y la Edad de los mismos cuales tienen más índice de masa corporal."
      ],
      "metadata": {
        "id": "4EOxIcj2lUVK"
      }
    },
    {
      "cell_type": "markdown",
      "source": [
        "## ¿Como?\n",
        "Se realiza una codificación de las variables de estudio para evaluar por sexo y Edad, cuales pacientes presentan mayor índice de masa corporal.\n"
      ],
      "metadata": {
        "id": "O8QFb6wfmgG5"
      }
    },
    {
      "cell_type": "markdown",
      "source": [
        "## Marcas y canales\n",
        "Las marcas y los canales utilizados en las visualizaciones son:\n",
        "Marca de área sobre la variable categoría Sexo agrupada por Edad representando cuales tiene más índice muscular.\n",
        "Canal de posición espacial vertical para representar el índice muscular por Edad en cada una de las categorías de Sexo.\n",
        "Canal de posición espacial horizontal para representar el tamaño de los niveles de índice muscular.\n"
      ],
      "metadata": {
        "id": "2K6F3oozmin3"
      }
    },
    {
      "cell_type": "markdown",
      "source": [
        "## Conclusiones \n",
        "La visualización nos ayuda a identificar cuales grupos individuos por la variable categoría Sexo, presenta un mayor Índice de masa corporal, , en promedio para los Hombres presenta un mayor índice muscular graso  en mayor porcentaje en pacientes jóvenes.\n",
        "\n",
        "Adicionalmente se identifica por la categoría Estrato, los pacientes con mayor estrato presentan en promedio un mayor Índice de masa corporal.\n"
      ],
      "metadata": {
        "id": "1H_HO3-JoViF"
      }
    },
    {
      "cell_type": "markdown",
      "source": [
        "## Network-redes"
      ],
      "metadata": {
        "id": "aBVS8fxH5bh6"
      }
    },
    {
      "cell_type": "code",
      "source": [
        "from google.colab import drive\n",
        "drive.mount('/content/drive')"
      ],
      "metadata": {
        "colab": {
          "base_uri": "https://localhost:8080/"
        },
        "id": "ZlPuxXBNbqA-",
        "outputId": "2e58b293-aa06-499d-c2a8-6666ee1bf403"
      },
      "execution_count": 8,
      "outputs": [
        {
          "output_type": "stream",
          "name": "stdout",
          "text": [
            "Mounted at /content/drive\n"
          ]
        }
      ]
    },
    {
      "cell_type": "code",
      "source": [
        "Data2 = pd.read_excel('/content/drive/MyDrive/Colab Notebooks/Word_Test_Example.xlsx') "
      ],
      "metadata": {
        "id": "buNz_nMNbqIp"
      },
      "execution_count": 15,
      "outputs": []
    },
    {
      "cell_type": "code",
      "source": [
        "Data2.head()"
      ],
      "metadata": {
        "colab": {
          "base_uri": "https://localhost:8080/",
          "height": 206
        },
        "id": "j762SmIn5nRS",
        "outputId": "751d3b96-be89-4828-a72c-623f6ec3498c"
      },
      "execution_count": 16,
      "outputs": [
        {
          "output_type": "execute_result",
          "data": {
            "text/plain": [
              "       Word1      Word2  Count\n",
              "0      Buena   Atencion    585\n",
              "1  Excelente   Atencion    465\n",
              "2    Gracias   Atencion    375\n",
              "3    Gracias      Ayuda    355\n",
              "4     Espero      Ayuda    295"
            ],
            "text/html": [
              "\n",
              "  <div id=\"df-b6e880f8-f724-4c58-bc79-52c8cf8d170c\">\n",
              "    <div class=\"colab-df-container\">\n",
              "      <div>\n",
              "<style scoped>\n",
              "    .dataframe tbody tr th:only-of-type {\n",
              "        vertical-align: middle;\n",
              "    }\n",
              "\n",
              "    .dataframe tbody tr th {\n",
              "        vertical-align: top;\n",
              "    }\n",
              "\n",
              "    .dataframe thead th {\n",
              "        text-align: right;\n",
              "    }\n",
              "</style>\n",
              "<table border=\"1\" class=\"dataframe\">\n",
              "  <thead>\n",
              "    <tr style=\"text-align: right;\">\n",
              "      <th></th>\n",
              "      <th>Word1</th>\n",
              "      <th>Word2</th>\n",
              "      <th>Count</th>\n",
              "    </tr>\n",
              "  </thead>\n",
              "  <tbody>\n",
              "    <tr>\n",
              "      <th>0</th>\n",
              "      <td>Buena</td>\n",
              "      <td>Atencion</td>\n",
              "      <td>585</td>\n",
              "    </tr>\n",
              "    <tr>\n",
              "      <th>1</th>\n",
              "      <td>Excelente</td>\n",
              "      <td>Atencion</td>\n",
              "      <td>465</td>\n",
              "    </tr>\n",
              "    <tr>\n",
              "      <th>2</th>\n",
              "      <td>Gracias</td>\n",
              "      <td>Atencion</td>\n",
              "      <td>375</td>\n",
              "    </tr>\n",
              "    <tr>\n",
              "      <th>3</th>\n",
              "      <td>Gracias</td>\n",
              "      <td>Ayuda</td>\n",
              "      <td>355</td>\n",
              "    </tr>\n",
              "    <tr>\n",
              "      <th>4</th>\n",
              "      <td>Espero</td>\n",
              "      <td>Ayuda</td>\n",
              "      <td>295</td>\n",
              "    </tr>\n",
              "  </tbody>\n",
              "</table>\n",
              "</div>\n",
              "      <button class=\"colab-df-convert\" onclick=\"convertToInteractive('df-b6e880f8-f724-4c58-bc79-52c8cf8d170c')\"\n",
              "              title=\"Convert this dataframe to an interactive table.\"\n",
              "              style=\"display:none;\">\n",
              "        \n",
              "  <svg xmlns=\"http://www.w3.org/2000/svg\" height=\"24px\"viewBox=\"0 0 24 24\"\n",
              "       width=\"24px\">\n",
              "    <path d=\"M0 0h24v24H0V0z\" fill=\"none\"/>\n",
              "    <path d=\"M18.56 5.44l.94 2.06.94-2.06 2.06-.94-2.06-.94-.94-2.06-.94 2.06-2.06.94zm-11 1L8.5 8.5l.94-2.06 2.06-.94-2.06-.94L8.5 2.5l-.94 2.06-2.06.94zm10 10l.94 2.06.94-2.06 2.06-.94-2.06-.94-.94-2.06-.94 2.06-2.06.94z\"/><path d=\"M17.41 7.96l-1.37-1.37c-.4-.4-.92-.59-1.43-.59-.52 0-1.04.2-1.43.59L10.3 9.45l-7.72 7.72c-.78.78-.78 2.05 0 2.83L4 21.41c.39.39.9.59 1.41.59.51 0 1.02-.2 1.41-.59l7.78-7.78 2.81-2.81c.8-.78.8-2.07 0-2.86zM5.41 20L4 18.59l7.72-7.72 1.47 1.35L5.41 20z\"/>\n",
              "  </svg>\n",
              "      </button>\n",
              "      \n",
              "  <style>\n",
              "    .colab-df-container {\n",
              "      display:flex;\n",
              "      flex-wrap:wrap;\n",
              "      gap: 12px;\n",
              "    }\n",
              "\n",
              "    .colab-df-convert {\n",
              "      background-color: #E8F0FE;\n",
              "      border: none;\n",
              "      border-radius: 50%;\n",
              "      cursor: pointer;\n",
              "      display: none;\n",
              "      fill: #1967D2;\n",
              "      height: 32px;\n",
              "      padding: 0 0 0 0;\n",
              "      width: 32px;\n",
              "    }\n",
              "\n",
              "    .colab-df-convert:hover {\n",
              "      background-color: #E2EBFA;\n",
              "      box-shadow: 0px 1px 2px rgba(60, 64, 67, 0.3), 0px 1px 3px 1px rgba(60, 64, 67, 0.15);\n",
              "      fill: #174EA6;\n",
              "    }\n",
              "\n",
              "    [theme=dark] .colab-df-convert {\n",
              "      background-color: #3B4455;\n",
              "      fill: #D2E3FC;\n",
              "    }\n",
              "\n",
              "    [theme=dark] .colab-df-convert:hover {\n",
              "      background-color: #434B5C;\n",
              "      box-shadow: 0px 1px 3px 1px rgba(0, 0, 0, 0.15);\n",
              "      filter: drop-shadow(0px 1px 2px rgba(0, 0, 0, 0.3));\n",
              "      fill: #FFFFFF;\n",
              "    }\n",
              "  </style>\n",
              "\n",
              "      <script>\n",
              "        const buttonEl =\n",
              "          document.querySelector('#df-b6e880f8-f724-4c58-bc79-52c8cf8d170c button.colab-df-convert');\n",
              "        buttonEl.style.display =\n",
              "          google.colab.kernel.accessAllowed ? 'block' : 'none';\n",
              "\n",
              "        async function convertToInteractive(key) {\n",
              "          const element = document.querySelector('#df-b6e880f8-f724-4c58-bc79-52c8cf8d170c');\n",
              "          const dataTable =\n",
              "            await google.colab.kernel.invokeFunction('convertToInteractive',\n",
              "                                                     [key], {});\n",
              "          if (!dataTable) return;\n",
              "\n",
              "          const docLinkHtml = 'Like what you see? Visit the ' +\n",
              "            '<a target=\"_blank\" href=https://colab.research.google.com/notebooks/data_table.ipynb>data table notebook</a>'\n",
              "            + ' to learn more about interactive tables.';\n",
              "          element.innerHTML = '';\n",
              "          dataTable['output_type'] = 'display_data';\n",
              "          await google.colab.output.renderOutput(dataTable, element);\n",
              "          const docLink = document.createElement('div');\n",
              "          docLink.innerHTML = docLinkHtml;\n",
              "          element.appendChild(docLink);\n",
              "        }\n",
              "      </script>\n",
              "    </div>\n",
              "  </div>\n",
              "  "
            ]
          },
          "metadata": {},
          "execution_count": 16
        }
      ]
    },
    {
      "cell_type": "code",
      "source": [
        "from pyvis.network import Network\n",
        "import pandas as pd\n",
        "\n",
        "got_net = Network(height='750px', \n",
        "                  width='100%', \n",
        "                  bgcolor='#222222', \n",
        "                  font_color='white', \n",
        "                  notebook = True)"
      ],
      "metadata": {
        "id": "xZwVBdmW5yKB"
      },
      "execution_count": 17,
      "outputs": []
    },
    {
      "cell_type": "code",
      "source": [
        "!pip install flask-ngrok"
      ],
      "metadata": {
        "colab": {
          "base_uri": "https://localhost:8080/"
        },
        "id": "opQ6JcAiWOmr",
        "outputId": "7bf8deff-06c9-4c78-8ce3-dfc425a7edad"
      },
      "execution_count": 18,
      "outputs": [
        {
          "output_type": "stream",
          "name": "stdout",
          "text": [
            "Looking in indexes: https://pypi.org/simple, https://us-python.pkg.dev/colab-wheels/public/simple/\n",
            "Collecting flask-ngrok\n",
            "  Downloading flask_ngrok-0.0.25-py3-none-any.whl (3.1 kB)\n",
            "Requirement already satisfied: requests in /usr/local/lib/python3.7/dist-packages (from flask-ngrok) (2.23.0)\n",
            "Requirement already satisfied: Flask>=0.8 in /usr/local/lib/python3.7/dist-packages (from flask-ngrok) (1.1.4)\n",
            "Requirement already satisfied: Werkzeug<2.0,>=0.15 in /usr/local/lib/python3.7/dist-packages (from Flask>=0.8->flask-ngrok) (1.0.1)\n",
            "Requirement already satisfied: click<8.0,>=5.1 in /usr/local/lib/python3.7/dist-packages (from Flask>=0.8->flask-ngrok) (7.1.2)\n",
            "Requirement already satisfied: Jinja2<3.0,>=2.10.1 in /usr/local/lib/python3.7/dist-packages (from Flask>=0.8->flask-ngrok) (2.11.3)\n",
            "Requirement already satisfied: itsdangerous<2.0,>=0.24 in /usr/local/lib/python3.7/dist-packages (from Flask>=0.8->flask-ngrok) (1.1.0)\n",
            "Requirement already satisfied: MarkupSafe>=0.23 in /usr/local/lib/python3.7/dist-packages (from Jinja2<3.0,>=2.10.1->Flask>=0.8->flask-ngrok) (2.0.1)\n",
            "Requirement already satisfied: idna<3,>=2.5 in /usr/local/lib/python3.7/dist-packages (from requests->flask-ngrok) (2.10)\n",
            "Requirement already satisfied: urllib3!=1.25.0,!=1.25.1,<1.26,>=1.21.1 in /usr/local/lib/python3.7/dist-packages (from requests->flask-ngrok) (1.24.3)\n",
            "Requirement already satisfied: certifi>=2017.4.17 in /usr/local/lib/python3.7/dist-packages (from requests->flask-ngrok) (2022.5.18.1)\n",
            "Requirement already satisfied: chardet<4,>=3.0.2 in /usr/local/lib/python3.7/dist-packages (from requests->flask-ngrok) (3.0.4)\n",
            "Installing collected packages: flask-ngrok\n",
            "Successfully installed flask-ngrok-0.0.25\n"
          ]
        }
      ]
    },
    {
      "cell_type": "code",
      "source": [
        "pip install flask"
      ],
      "metadata": {
        "colab": {
          "base_uri": "https://localhost:8080/"
        },
        "id": "q1PV7jgl5YDV",
        "outputId": "57700046-344a-40e7-bed9-61d1509f0e53"
      },
      "execution_count": 2,
      "outputs": [
        {
          "output_type": "stream",
          "name": "stdout",
          "text": [
            "Looking in indexes: https://pypi.org/simple, https://us-python.pkg.dev/colab-wheels/public/simple/\n",
            "Requirement already satisfied: flask in /usr/local/lib/python3.7/dist-packages (1.1.4)\n",
            "Requirement already satisfied: Jinja2<3.0,>=2.10.1 in /usr/local/lib/python3.7/dist-packages (from flask) (2.11.3)\n",
            "Requirement already satisfied: Werkzeug<2.0,>=0.15 in /usr/local/lib/python3.7/dist-packages (from flask) (1.0.1)\n",
            "Requirement already satisfied: itsdangerous<2.0,>=0.24 in /usr/local/lib/python3.7/dist-packages (from flask) (1.1.0)\n",
            "Requirement already satisfied: click<8.0,>=5.1 in /usr/local/lib/python3.7/dist-packages (from flask) (7.1.2)\n",
            "Requirement already satisfied: MarkupSafe>=0.23 in /usr/local/lib/python3.7/dist-packages (from Jinja2<3.0,>=2.10.1->flask) (2.0.1)\n"
          ]
        }
      ]
    },
    {
      "cell_type": "code",
      "source": [
        "from flask_ngrok import run_with_ngrok\n",
        "from flask import Flask\n",
        "app = Flask(__name__)\n",
        "run_with_ngrok(app)   #starts ngrok when the app is run\n",
        "@app.route(\"/\")\n",
        "def home():\n",
        "  \n",
        "    return \"<h1>Running Flask on Google Colab!</h1>\"\n",
        "  \n",
        "app.run()"
      ],
      "metadata": {
        "colab": {
          "base_uri": "https://localhost:8080/"
        },
        "id": "SvSzPWUmWTea",
        "outputId": "a789a14c-84db-42b2-956a-caa6987e48f8"
      },
      "execution_count": 19,
      "outputs": [
        {
          "output_type": "stream",
          "name": "stdout",
          "text": [
            " * Serving Flask app \"__main__\" (lazy loading)\n",
            " * Environment: production\n",
            "\u001b[31m   WARNING: This is a development server. Do not use it in a production deployment.\u001b[0m\n",
            "\u001b[2m   Use a production WSGI server instead.\u001b[0m\n",
            " * Debug mode: off\n"
          ]
        },
        {
          "output_type": "stream",
          "name": "stderr",
          "text": [
            " * Running on http://127.0.0.1:5000/ (Press CTRL+C to quit)\n"
          ]
        },
        {
          "output_type": "stream",
          "name": "stdout",
          "text": [
            " * Running on http://e360-34-80-181-155.ngrok.io\n",
            " * Traffic stats available on http://127.0.0.1:4040\n"
          ]
        },
        {
          "output_type": "stream",
          "name": "stderr",
          "text": [
            "127.0.0.1 - - [26/May/2022 05:51:10] \"\u001b[37mGET / HTTP/1.1\u001b[0m\" 200 -\n",
            "127.0.0.1 - - [26/May/2022 05:51:10] \"\u001b[33mGET /favicon.ico HTTP/1.1\u001b[0m\" 404 -\n"
          ]
        }
      ]
    }
  ],
  "metadata": {
    "kernelspec": {
      "display_name": "Python 3",
      "language": "python",
      "name": "python3"
    },
    "language_info": {
      "codemirror_mode": {
        "name": "ipython",
        "version": 3
      },
      "file_extension": ".py",
      "mimetype": "text/x-python",
      "name": "python",
      "nbconvert_exporter": "python",
      "pygments_lexer": "ipython3",
      "version": "3.8.5"
    },
    "toc": {
      "base_numbering": 1,
      "nav_menu": {},
      "number_sections": true,
      "sideBar": true,
      "skip_h1_title": false,
      "title_cell": "Table of Contents",
      "title_sidebar": "Contents",
      "toc_cell": true,
      "toc_position": {},
      "toc_section_display": true,
      "toc_window_display": false
    },
    "varInspector": {
      "cols": {
        "lenName": 16,
        "lenType": 16,
        "lenVar": 40
      },
      "kernels_config": {
        "python": {
          "delete_cmd_postfix": "",
          "delete_cmd_prefix": "del ",
          "library": "var_list.py",
          "varRefreshCmd": "print(var_dic_list())"
        },
        "r": {
          "delete_cmd_postfix": ") ",
          "delete_cmd_prefix": "rm(",
          "library": "var_list.r",
          "varRefreshCmd": "cat(var_dic_list()) "
        }
      },
      "types_to_exclude": [
        "module",
        "function",
        "builtin_function_or_method",
        "instance",
        "_Feature"
      ],
      "window_display": false
    },
    "colab": {
      "name": "Solución Taller 3 - Árboles Y Redes.ipynb",
      "provenance": [],
      "collapsed_sections": []
    }
  },
  "nbformat": 4,
  "nbformat_minor": 0
}